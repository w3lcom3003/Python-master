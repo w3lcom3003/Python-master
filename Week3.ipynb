{
  "cells": [
    {
      "cell_type": "code",
      "execution_count": 1,
      "id": "86879ab7-2d2b-452f-b125-3b7ffa588f5d",
      "metadata": {
        "id": "86879ab7-2d2b-452f-b125-3b7ffa588f5d",
        "outputId": "f26e2e4e-84e5-4e77-9015-2b43e1ef8a2a"
      },
      "outputs": [],
      "source": [
        "import os \n",
        "from dotenv import load_dotenv\n",
        "from openai import OpenAI\n",
        "\n",
        "load_dotenv()\n",
        "OPENAI_API_KEY = os.getenv('OPENAI_API_KEY')\n",
        "client = OpenAI(api_key=\"sk-proj-IijgVfhp9Yd2dAYhmtEpT3BlbkFJah84IhiGypsfWzyuAOpV\")"
      ]
    },
    {
      "cell_type": "markdown",
      "id": "96e7de34-d33e-4bdf-8b07-72d7b3c2a785",
      "metadata": {
        "id": "96e7de34-d33e-4bdf-8b07-72d7b3c2a785"
      },
      "source": [
        "# Load document\n",
        "* txt/pdf/html/csv/markdown/json/directory"
      ]
    },
    {
      "cell_type": "markdown",
      "id": "7bcdfc78-10bc-4daa-b3cf-95fc3fbce139",
      "metadata": {
        "id": "7bcdfc78-10bc-4daa-b3cf-95fc3fbce139"
      },
      "source": [
        "### load document using textloader"
      ]
    },
    {
      "cell_type": "code",
      "execution_count": 9,
      "id": "5c318bd2-f611-4320-a9e8-dfd6d36e3175",
      "metadata": {
        "id": "5c318bd2-f611-4320-a9e8-dfd6d36e3175",
        "scrolled": true
      },
      "outputs": [],
      "source": [
        "from langchain_community.document_loaders import TextLoader\n",
        "from pathlib import Path\n",
        "\n",
        "path = Path('~/OneDrive/바탕 화면/API 스터디/openai.txt').expanduser()\n",
        "\n",
        "loader = TextLoader(path, encoding='utf-8')\n",
        "docs = loader.load()"
      ]
    },
    {
      "cell_type": "code",
      "execution_count": 10,
      "id": "22527885-8551-4991-88d1-82d4af515f94",
      "metadata": {
        "id": "22527885-8551-4991-88d1-82d4af515f94",
        "outputId": "93464b01-0303-44c9-dd0f-8957a1a14400"
      },
      "outputs": [
        {
          "data": {
            "text/plain": [
              "1"
            ]
          },
          "execution_count": 10,
          "metadata": {},
          "output_type": "execute_result"
        }
      ],
      "source": [
        "len(docs)"
      ]
    },
    {
      "cell_type": "markdown",
      "id": "4a99f6a3-a730-4998-8fdb-9985a5fe3eaa",
      "metadata": {
        "id": "4a99f6a3-a730-4998-8fdb-9985a5fe3eaa"
      },
      "source": [
        "### load document using pypdfloader"
      ]
    },
    {
      "cell_type": "code",
      "execution_count": 48,
      "id": "7c2000a1-352c-43c5-aa02-601d42e7c504",
      "metadata": {
        "id": "7c2000a1-352c-43c5-aa02-601d42e7c504",
        "outputId": "784489e6-dc23-4e83-c57a-0686b1b5d470",
        "scrolled": true
      },
      "outputs": [
        {
          "data": {
            "text/plain": [
              "[Document(page_content='7\\nDistance and Approximation\\nCopyright ©  Cengage Learning. All rights reserved. ', metadata={'source': 'C:\\\\Users\\\\RSM\\\\OneDrive\\\\바탕 화면\\\\API 스터디\\\\Chapter 7.pdf', 'page': 0}),\n",
              " Document(page_content='Copyright ©  Cengage Learning. All rights reserved. \\n7.4The Singular Value Decomposition', metadata={'source': 'C:\\\\Users\\\\RSM\\\\OneDrive\\\\바탕 화면\\\\API 스터디\\\\Chapter 7.pdf', 'page': 1}),\n",
              " Document(page_content='3\\nThe Singular Values of a Matrix', metadata={'source': 'C:\\\\Users\\\\RSM\\\\OneDrive\\\\바탕 화면\\\\API 스터디\\\\Chapter 7.pdf', 'page': 2}),\n",
              " Document(page_content='4The Singular Values of a Matrix (1 of 1)\\nDefinition\\nIf A is an m ×n matrix, the singular values of A are the \\nsquare roots of the eigenvalues of\\n and are denoted by \\nσ1, ... , σn. It is conventional to arrange the singular values so \\nthat σ1≥ σ2≥ ... ≥ σn.', metadata={'source': 'C:\\\\Users\\\\RSM\\\\OneDrive\\\\바탕 화면\\\\API 스터디\\\\Chapter 7.pdf', 'page': 3}),\n",
              " Document(page_content='5Example 7.33\\nFind the singular values of\\nSolution: \\nThe matrix\\nhas eigenvalues λ1= 3 and λ2= 1. Consequently, the \\nsingular values of A are\\n', metadata={'source': 'C:\\\\Users\\\\RSM\\\\OneDrive\\\\바탕 화면\\\\API 스터디\\\\Chapter 7.pdf', 'page': 4}),\n",
              " Document(page_content='6\\nThe Singular Value Decomposition', metadata={'source': 'C:\\\\Users\\\\RSM\\\\OneDrive\\\\바탕 화면\\\\API 스터디\\\\Chapter 7.pdf', 'page': 5}),\n",
              " Document(page_content='7The Singular Value Decomposition (1 of 5)\\nTheorem 7.13 \\nThe Singular Value Decomposition\\nLet A be an m ×n matrix with singular values                       \\nσ1≥ σ2≥ ... ≥ σr> 0 and σr+1= σr+2= ... = σn= 0. Then there \\nexist an m ×m orthogonal matrix U, an n ×n orthogonal \\nmatrix V, and an m ×n matrix Σof the form shown in \\nEquation (1) such that\\n', metadata={'source': 'C:\\\\Users\\\\RSM\\\\OneDrive\\\\바탕 화면\\\\API 스터디\\\\Chapter 7.pdf', 'page': 6}),\n",
              " Document(page_content='8The Singular Value Decomposition (2 of 5)\\nA factorization of A as in Theorem 7.13 is called a singular \\nvalue decomposition (SVD) of A. The columns of U are \\ncalled left singular vectors of A, and the columns of V are \\ncalled right singular vectors of A. \\nThe matrices U and V are not uniquely determined by A, but \\nΣmust contain the singular values of A, as in Equation (1).', metadata={'source': 'C:\\\\Users\\\\RSM\\\\OneDrive\\\\바탕 화면\\\\API 스터디\\\\Chapter 7.pdf', 'page': 7}),\n",
              " Document(page_content='9Example 7.34\\nFind a singular value decomposition for the following \\nmatrices:\\nSolution:\\n(a) We compute\\n', metadata={'source': 'C:\\\\Users\\\\RSM\\\\OneDrive\\\\바탕 화면\\\\API 스터디\\\\Chapter 7.pdf', 'page': 8}),\n",
              " Document(page_content='10Example 7.34 –Solution (1 of 8)\\nand find that its eigenvalues are λ1= 2, λ2= 1, and λ3= 0, \\nwith corresponding eigenvectors\\nVerify this. These vectors are orthogonal, so we normalize \\nthem to obtain\\n', metadata={'source': 'C:\\\\Users\\\\RSM\\\\OneDrive\\\\바탕 화면\\\\API 스터디\\\\Chapter 7.pdf', 'page': 9}),\n",
              " Document(page_content='11Example 7.34 –Solution (2 of 8)\\nThe singular values of A are\\nTo find U, we compute\\n', metadata={'source': 'C:\\\\Users\\\\RSM\\\\OneDrive\\\\바탕 화면\\\\API 스터디\\\\Chapter 7.pdf', 'page': 10}),\n",
              " Document(page_content='12Example 7.34 –Solution (3 of 8)\\nand\\nThese vectors already form an orthonormal basis (the \\nstandard basis) for\\n so we have\\nThis yields the SVD\\nwhich can be easily checked. ', metadata={'source': 'C:\\\\Users\\\\RSM\\\\OneDrive\\\\바탕 화면\\\\API 스터디\\\\Chapter 7.pdf', 'page': 11}),\n",
              " Document(page_content='13Example 7.34 –Solution (4 of 8)\\n(b) This is the matrix in Example 7.33, so we already know \\nthat the singular values are\\n', metadata={'source': 'C:\\\\Users\\\\RSM\\\\OneDrive\\\\바탕 화면\\\\API 스터디\\\\Chapter 7.pdf', 'page': 12}),\n",
              " Document(page_content='14Example 7.34 –Solution (5 of 8)\\nFor U, we compute\\nand\\nThis time, we need to extend { u1, u2} to an orthonormal \\nbasis for\\n', metadata={'source': 'C:\\\\Users\\\\RSM\\\\OneDrive\\\\바탕 화면\\\\API 스터디\\\\Chapter 7.pdf', 'page': 13}),\n",
              " Document(page_content='15Example 7.34 –Solution (6 of 8)\\nThere are several ways to proceed; one method is to use \\nthe Gram -Schmidt Process. We first need to find a linearly \\nindependent set of three vectors that contains u1and u2.\\nIf e3is the third standard basis vector in\\n it is clear that \\n{u1, u2, e3} is linearly independent.', metadata={'source': 'C:\\\\Users\\\\RSM\\\\OneDrive\\\\바탕 화면\\\\API 스터디\\\\Chapter 7.pdf', 'page': 14}),\n",
              " Document(page_content='16Example 7.34 –Solution (7 of 8)\\nApplying Gram -Schmidt (with normalization) to { u1, u2, e3} \\nwe find\\nso\\n', metadata={'source': 'C:\\\\Users\\\\RSM\\\\OneDrive\\\\바탕 화면\\\\API 스터디\\\\Chapter 7.pdf', 'page': 15}),\n",
              " Document(page_content='17Example 7.34 –Solution (8 of 8)\\nand we have the SVD\\n', metadata={'source': 'C:\\\\Users\\\\RSM\\\\OneDrive\\\\바탕 화면\\\\API 스터디\\\\Chapter 7.pdf', 'page': 16}),\n",
              " Document(page_content='18The Singular Value Decomposition (3 of 5)\\nTheorem 7.14 \\nThe Outer Product Form of the SVD\\nLet A be an m ×n matrix with singular values                       \\nσ1≥ σ2≥ ... ≥ σr> 0 and σr+1= σr+2= ... = σn= 0. Let               \\nu1, ... , urbe left singular vectors and let v1, ... , vrbe right \\nsingular vectors of A corresponding to these singular values. \\nThen\\n', metadata={'source': 'C:\\\\Users\\\\RSM\\\\OneDrive\\\\바탕 화면\\\\API 스터디\\\\Chapter 7.pdf', 'page': 17}),\n",
              " Document(page_content='19The Singular Value Decomposition (4 of 5)\\nTheorem 7.15 \\nLet\\n be a singular value decomposition of an m ×n\\nmatrix A. Let σ1, ... , σrbe all the nonzero singular values of \\nA. Then:\\na. The rank of A is r.\\nb. {u1, ... , ur} is an orthonormal basis for col( A).\\nc. {ur+1, ... , um} is an orthonormal basis for null\\nd. {v1, ... , vr} is an orthonormal basis for row( A).\\ne. {vr+1, ... , vn} is an orthonormal basis for null( A).', metadata={'source': 'C:\\\\Users\\\\RSM\\\\OneDrive\\\\바탕 화면\\\\API 스터디\\\\Chapter 7.pdf', 'page': 18}),\n",
              " Document(page_content='20The Singular Value Decomposition (5 of 5)\\nTheorem 7.16 \\nLet A be an m ×n matrix with rank r. Then the image of the \\nunit sphere in\\n under the matrix transformation that maps \\nx to Axis \\na. the surface of an ellipsoid in\\n if r = n.\\nb. a solid ellipsoid in\\n if r < n.', metadata={'source': 'C:\\\\Users\\\\RSM\\\\OneDrive\\\\바탕 화면\\\\API 스터디\\\\Chapter 7.pdf', 'page': 19}),\n",
              " Document(page_content='21\\nThe Pseudoinverse of a Matrix', metadata={'source': 'C:\\\\Users\\\\RSM\\\\OneDrive\\\\바탕 화면\\\\API 스터디\\\\Chapter 7.pdf', 'page': 20}),\n",
              " Document(page_content='22The Pseudoinverse of a Matrix (1 of 2)\\nDefinition\\nIf A is a matrix with linearly independent columns, then the \\npseudoinverse of A is the matrix\\n defined by\\n', metadata={'source': 'C:\\\\Users\\\\RSM\\\\OneDrive\\\\바탕 화면\\\\API 스터디\\\\Chapter 7.pdf', 'page': 21}),\n",
              " Document(page_content='23Example 7.32\\nFind the pseudoinverse of\\nSolution:\\nFrom the definition of the pseudoinverse of A, we have\\n', metadata={'source': 'C:\\\\Users\\\\RSM\\\\OneDrive\\\\바탕 화면\\\\API 스터디\\\\Chapter 7.pdf', 'page': 22}),\n",
              " Document(page_content='24The Pseudoinverse of a Matrix (2 of 2)\\nTheorem 7.12\\nLet A be a matrix with linearly independent columns. Then \\nthe pseudoinverse\\n of A satisfies the following properties, \\ncalled the Penrose conditions for A:\\n', metadata={'source': 'C:\\\\Users\\\\RSM\\\\OneDrive\\\\바탕 화면\\\\API 스터디\\\\Chapter 7.pdf', 'page': 23})]"
            ]
          },
          "execution_count": 48,
          "metadata": {},
          "output_type": "execute_result"
        }
      ],
      "source": [
        "from langchain_community.document_loaders import PyPDFLoader\n",
        "\n",
        "# pdf 로드\n",
        "loader = PyPDFLoader(r\"C:\\Users\\RSM\\OneDrive\\바탕 화면\\API 스터디\\Chapter 7.pdf\")\n",
        "# 텍스트 추출\n",
        "docs = loader.load()\n",
        "docs"
      ]
    },
    {
      "cell_type": "markdown",
      "id": "13d92862-c826-4df1-906b-e66d9db66a80",
      "metadata": {
        "id": "13d92862-c826-4df1-906b-e66d9db66a80"
      },
      "source": [
        "### load documenets from directory"
      ]
    },
    {
      "cell_type": "code",
      "execution_count": null,
      "id": "567a8d00-ab79-4f30-a954-1fd24549f18e",
      "metadata": {
        "id": "567a8d00-ab79-4f30-a954-1fd24549f18e",
        "outputId": "35c4b75c-c3a0-453b-8f0e-eae4b5b3cc5b"
      },
      "outputs": [],
      "source": [
        "# 디렉토리 안에 있는 파일을 자동으로 로드하고 처리함\n",
        "from langchain_community.document_loaders import DirectoryLoader\n",
        "\n",
        "# glob = * 는 모든 파일을 대상으로 로드한다는 뜻\n",
        "loader = DirectoryLoader(r\"C:\\Users\\RSM\\OneDrive\\바탕 화면\\API 스터디\", glob=\"*\", show_progress=True)\n",
        "docs = loader.load()"
      ]
    },
    {
      "cell_type": "code",
      "execution_count": 18,
      "id": "3f8d9029-7d33-4726-a8f8-a6030680c84e",
      "metadata": {
        "id": "3f8d9029-7d33-4726-a8f8-a6030680c84e",
        "outputId": "bee5a603-8a9c-4fd0-f4b8-58972b07c359"
      },
      "outputs": [
        {
          "data": {
            "text/plain": [
              "1083"
            ]
          },
          "execution_count": 18,
          "metadata": {},
          "output_type": "execute_result"
        }
      ],
      "source": [
        "len(docs)"
      ]
    },
    {
      "cell_type": "markdown",
      "id": "4bcc803b-bb17-49eb-bdfc-7d6f680a8095",
      "metadata": {
        "id": "4bcc803b-bb17-49eb-bdfc-7d6f680a8095"
      },
      "source": [
        "# Chunking"
      ]
    },
    {
      "cell_type": "markdown",
      "id": "f1d3ff55-70d0-4635-816c-9281360b217a",
      "metadata": {
        "id": "f1d3ff55-70d0-4635-816c-9281360b217a"
      },
      "source": [
        "### CharacterTextSplitter"
      ]
    },
    {
      "cell_type": "code",
      "execution_count": 3,
      "id": "9d45323f-c9c0-4937-86f8-5de90009b66f",
      "metadata": {
        "id": "9d45323f-c9c0-4937-86f8-5de90009b66f"
      },
      "outputs": [],
      "source": [
        "from langchain_text_splitters import CharacterTextSplitter\n",
        "\n",
        "text_splitter = CharacterTextSplitter(\n",
        "    # 구분자 정의\n",
        "    separator=\"\\n\",\n",
        "    # 각 조각의 크기(500)\n",
        "    chunk_size=500,\n",
        "    chunk_overlap=100,\n",
        "    # 파이썬 내장 함수 len 이용\n",
        "    length_function=len,\n",
        "    # separator를 문자열 그대로 처리\n",
        "    is_separator_regex=False,\n",
        ")"
      ]
    },
    {
      "cell_type": "code",
      "execution_count": null,
      "id": "355b12a8-44f4-49f5-b0cc-be5f22be3fa6",
      "metadata": {
        "id": "355b12a8-44f4-49f5-b0cc-be5f22be3fa6",
        "outputId": "98cd7153-6ac6-4c6b-f9d4-b3b71b569e43",
        "scrolled": true
      },
      "outputs": [],
      "source": [
        "documents = text_splitter.split_documents(docs)"
      ]
    },
    {
      "cell_type": "code",
      "execution_count": null,
      "id": "e08eeff9-b2b5-49e6-9e39-f1a5a0d74b1d",
      "metadata": {
        "id": "e08eeff9-b2b5-49e6-9e39-f1a5a0d74b1d",
        "outputId": "7bf48ea1-5d4f-42a4-8d3b-2675dbda93e3"
      },
      "outputs": [],
      "source": [
        "documents[0].page_content"
      ]
    },
    {
      "cell_type": "markdown",
      "id": "06a9274a-81d6-4850-bff1-d071f16eb84b",
      "metadata": {
        "id": "06a9274a-81d6-4850-bff1-d071f16eb84b"
      },
      "source": [
        "### RecursiveCharacterSplitter\n",
        "* 여러 개의 separator를 가지고 recursive하게 텍스트를 분리\n",
        "* 첫 번째 separator로 분리 -> 너무 긴 청크는 다시 두 번째 separator로 분리.."
      ]
    },
    {
      "cell_type": "code",
      "execution_count": 22,
      "id": "b8b043d4-8b47-4036-82ad-5d14c8b4df94",
      "metadata": {
        "id": "b8b043d4-8b47-4036-82ad-5d14c8b4df94"
      },
      "outputs": [],
      "source": [
        "# 텍스트를 재귀적으로 분할\n",
        "from langchain_text_splitters import RecursiveCharacterTextSplitter\n",
        "\n",
        "text_splitter = RecursiveCharacterTextSplitter(\n",
        "    # 점점 작은 단위로 쪼갬\n",
        "    separators=[\"\\n\\n\", \"\\n\", \" \"],\n",
        "    chunk_size=500,\n",
        "    chunk_overlap=20,\n",
        "    length_function=len,\n",
        "    is_separator_regex=False,\n",
        ")"
      ]
    },
    {
      "cell_type": "code",
      "execution_count": 23,
      "id": "9ebd3d94-a681-4832-8527-81fbe363c1cd",
      "metadata": {
        "id": "9ebd3d94-a681-4832-8527-81fbe363c1cd"
      },
      "outputs": [
        {
          "name": "stderr",
          "output_type": "stream",
          "text": [
            " 10%|█         | 1/10 [07:05<1:03:53, 425.95s/it]\n"
          ]
        }
      ],
      "source": [
        "documents = text_splitter.split_documents(docs)"
      ]
    },
    {
      "cell_type": "code",
      "execution_count": 24,
      "id": "0e570a28-8595-4b47-aec8-97688a927d16",
      "metadata": {
        "id": "0e570a28-8595-4b47-aec8-97688a927d16"
      },
      "outputs": [],
      "source": [
        "for doc in documents:\n",
        "    # 길이가 500 초과라면 출력함\n",
        "    # chunk_size가 500이기 때문에 당연히 아무것도 출력 안됨\n",
        "    if len(doc.page_content) > 500:\n",
        "        print(doc)"
      ]
    },
    {
      "cell_type": "code",
      "execution_count": 25,
      "id": "6f6f0658-8d08-443b-b245-a7c7cbafd38b",
      "metadata": {
        "id": "6f6f0658-8d08-443b-b245-a7c7cbafd38b",
        "outputId": "fef30d03-b902-4b88-80bc-bddd447a760e"
      },
      "outputs": [
        {
          "data": {
            "text/plain": [
              "Document(page_content='연세대학교 대학요람\\n2022\\n연세대학교\\nYONSEI UNIVERSITY', metadata={'source': 'C:\\\\Users\\\\RSM\\\\OneDrive\\\\바탕 화면\\\\API 스터디\\\\대학 요람.pdf', 'page': 0})"
            ]
          },
          "execution_count": 25,
          "metadata": {},
          "output_type": "execute_result"
        }
      ],
      "source": [
        "documents[0]"
      ]
    },
    {
      "cell_type": "markdown",
      "id": "c13f820d-86e9-46ce-a3aa-5a8aa176c752",
      "metadata": {
        "id": "c13f820d-86e9-46ce-a3aa-5a8aa176c752"
      },
      "source": [
        "### SemanticChunker\n",
        "* OpenAI 임베딩 콜로 각 문장에 대한 embedding 생성\n",
        "* next sentence와의 embedding distance가 threshold 이하일 때는 chunk를 결합하고, 이상일 때는 chunk 분리"
      ]
    },
    {
      "cell_type": "code",
      "execution_count": null,
      "id": "da902c02-97a1-4e92-9f34-5a0b50cdefa0",
      "metadata": {
        "id": "da902c02-97a1-4e92-9f34-5a0b50cdefa0"
      },
      "outputs": [],
      "source": [
        "# 문서를 \"\"\"의미 단위\"\"\"로 분할하는 클래스\n",
        "from langchain_experimental.text_splitter import SemanticChunker\n",
        "from langchain.embeddings import OpenAIEmbeddings\n",
        "\n",
        "# 객체 생성\n",
        "text_splitter = SemanticChunker(OpenAIEmbeddings(api_key=\"sk-proj-IijgVfhp9Yd2dAYhmtEpT3BlbkFJah84IhiGypsfWzyuAOpV\"))\n",
        "\n",
        "# 입력 문서(docs)를 의미 단위로 분할함\n",
        "documents = text_splitter.split_documents(docs)"
      ]
    },
    {
      "cell_type": "code",
      "execution_count": null,
      "id": "1f9fa50a-e856-4111-90b1-003d6ceeea71",
      "metadata": {
        "id": "1f9fa50a-e856-4111-90b1-003d6ceeea71",
        "outputId": "ddcc7f1e-8cdf-4410-d7a2-2ef96d935699"
      },
      "outputs": [
        {
          "data": {
            "text/plain": [
              "Document(page_content='OpenAI is a U.S. based artificial intelligence (AI) research organization founded in December 2015, researching artificial intelligence with the goal of developing \"safe and beneficial\" artificial general intelligence, which it defines as \"highly autonomous systems that outperform humans at most economically valuable work\". As one of the leading organizations of the AI spring, it has developed several large language models, advanced image generation models, and previously, released open-source models. Its release of ChatGPT has been credited with starting the AI spring.The organization consists of the non-profit OpenAI, Inc. registered in Delaware and its for-profit subsidiary OpenAI Global, LLC. It was founded by Ilya Sutskever, Greg Brockman, Trevor Blackwell, Vicki Cheung, Andrej Karpathy, Durk Kingma, Jessica Livingston, John Schulman, Pamela Vagata, and Wojciech Zaremba, with Sam Altman and Elon Musk serving as the initial Board of Directors members. Microsoft provided OpenAI Global LLC with a $1 billion investment in 2019 and a $10 billion investment in 2023, with a significant portion of the investment in the form of computational resources on Microsoft\\'s Azure cloud service.On November 17, 2023, the board removed Altman as CEO, while Brockman was removed as chairman and then resigned as president. Four days later, both returned after negotiations with the board, and most of the board members resigned.', metadata={'source': '../dataset/llamaindex_data/openai.txt'})"
            ]
          },
          "execution_count": 33,
          "metadata": {},
          "output_type": "execute_result"
        }
      ],
      "source": [
        "documents[0]"
      ]
    },
    {
      "cell_type": "markdown",
      "id": "f3ff6071-8be7-465f-84ac-597054f0c21e",
      "metadata": {
        "id": "f3ff6071-8be7-465f-84ac-597054f0c21e"
      },
      "source": [
        "### CharacterTokenSplitter\n",
        "* tiktoken(OPENAI가 개발한 byte pair tokenizer)를 이용해서 tokenize\n",
        "* chunk size는 토큰의 개수\n",
        "* LM의 컨텍스트 제한은 보통 토큰 사이즈로 정해지기 때문에 토큰 단위로 나누는 것은 합리적인 선택"
      ]
    },
    {
      "cell_type": "code",
      "execution_count": 50,
      "id": "866064fd-dcdb-4c7c-91f9-5139ffc71c71",
      "metadata": {
        "id": "866064fd-dcdb-4c7c-91f9-5139ffc71c71",
        "outputId": "fb9a0564-eaa1-4c3b-876c-ca5519dac03d"
      },
      "outputs": [],
      "source": [
        "# 텍스트를 문자 단위로 분할함\n",
        "from langchain_text_splitters import CharacterTextSplitter\n",
        "\n",
        "# 최대 chunk size를 500으로 지정\n",
        "text_splitter = CharacterTextSplitter.from_tiktoken_encoder(\n",
        "    chunk_size=200, chunk_overlap=0\n",
        ")\n",
        "documents = text_splitter.split_documents(docs)"
      ]
    },
    {
      "cell_type": "code",
      "execution_count": 54,
      "id": "70c02a9a-6ab0-4e99-950a-70c36e36457f",
      "metadata": {
        "id": "70c02a9a-6ab0-4e99-950a-70c36e36457f",
        "outputId": "bde78f0c-7739-443c-9cbf-b280885ea49f"
      },
      "outputs": [
        {
          "data": {
            "text/plain": [
              "['11Example 7.34 –Solution (2 of 8)',\n",
              " 'The singular values of A are',\n",
              " 'To find U, we compute']"
            ]
          },
          "execution_count": 54,
          "metadata": {},
          "output_type": "execute_result"
        }
      ],
      "source": [
        "# 270번째 페이지의 문자들을 줄 바꿈을 기준으로 출력한 것\n",
        "documents[10].page_content.split(\"\\n\")"
      ]
    },
    {
      "cell_type": "markdown",
      "id": "8a6138f0-1e7f-44f7-a7ae-79e04b2b099d",
      "metadata": {
        "id": "8a6138f0-1e7f-44f7-a7ae-79e04b2b099d"
      },
      "source": [
        "# Embedding"
      ]
    },
    {
      "cell_type": "code",
      "execution_count": 41,
      "id": "77fdd015-2b10-499a-8596-e1c1978e250a",
      "metadata": {
        "id": "77fdd015-2b10-499a-8596-e1c1978e250a"
      },
      "outputs": [],
      "source": [
        "from langchain_openai.embeddings import OpenAIEmbeddings\n",
        "# FAISS는 벡터 저장소, 고성능 벡터 검색 라이브러리\n",
        "from langchain_community.vectorstores import FAISS\n",
        "\n",
        "embed_model = OpenAIEmbeddings(api_key=\"sk-proj-IijgVfhp9Yd2dAYhmtEpT3BlbkFJah84IhiGypsfWzyuAOpV\",\n",
        "                                model='text-embedding-3-small')"
      ]
    },
    {
      "cell_type": "code",
      "execution_count": null,
      "id": "b71a034d-0249-4c47-8b25-02bc5222c291",
      "metadata": {
        "id": "b71a034d-0249-4c47-8b25-02bc5222c291",
        "outputId": "a94fb13a-e681-4833-cd5d-f491dac02d16"
      },
      "outputs": [
        {
          "data": {
            "text/plain": [
              "[-0.010324695814672812, 0.023181728425434665, 0.006363398698291552]"
            ]
          },
          "execution_count": 74,
          "metadata": {},
          "output_type": "execute_result"
        }
      ],
      "source": [
        "emb = embed_model.embed_query(\"What is Mistral AI?\")\n",
        "# 딱히 의미나 기준이 있진 않음\n",
        "emb[:3]"
      ]
    },
    {
      "cell_type": "code",
      "execution_count": 38,
      "id": "77680bb8-e4da-4c1b-bc9d-6aae541dbe2d",
      "metadata": {
        "id": "77680bb8-e4da-4c1b-bc9d-6aae541dbe2d",
        "outputId": "e6057f95-5886-4226-d3f9-416ba59d9072"
      },
      "outputs": [
        {
          "data": {
            "text/plain": [
              "2"
            ]
          },
          "execution_count": 38,
          "metadata": {},
          "output_type": "execute_result"
        }
      ],
      "source": [
        "emb_doc = embed_model.embed_documents(['Hi', 'Mistal','ML'])\n",
        "len(emb_doc)"
      ]
    },
    {
      "cell_type": "markdown",
      "id": "3cb5d3d0-a67b-450d-b76a-3bdf8c212df4",
      "metadata": {
        "id": "3cb5d3d0-a67b-450d-b76a-3bdf8c212df4"
      },
      "source": [
        "# VectorStore"
      ]
    },
    {
      "cell_type": "markdown",
      "id": "92aa7c94-b1eb-4883-ab48-064f846d4dd6",
      "metadata": {
        "id": "92aa7c94-b1eb-4883-ab48-064f846d4dd6"
      },
      "source": [
        "### Chroma"
      ]
    },
    {
      "cell_type": "code",
      "execution_count": 55,
      "id": "d5321a28-4cd6-466a-b4ea-1457a7389913",
      "metadata": {
        "id": "d5321a28-4cd6-466a-b4ea-1457a7389913"
      },
      "outputs": [],
      "source": [
        "# chroma 벡터 저장소 임포트\n",
        "from langchain_community.vectorstores import Chroma\n",
        "\n",
        "# 주어진 문서들을 임베딩하고 Chroma 데이터베이스에 저장한다.\n",
        "# 생성된 Chroma 데이터베이스 객체를 db변수에 할당한다.\n",
        "db = Chroma.from_documents(documents, embed_model)"
      ]
    },
    {
      "cell_type": "code",
      "execution_count": 60,
      "id": "e1650561-e4a9-4934-a76f-d2b786d0de0a",
      "metadata": {
        "id": "e1650561-e4a9-4934-a76f-d2b786d0de0a",
        "outputId": "0e36d0cf-ec1b-4c84-bd33-9d4266ef8675"
      },
      "outputs": [
        {
          "data": {
            "text/plain": [
              "'20The Singular Value Decomposition (5 of 5)\\nTheorem 7.16 \\nLet A be an m ×n matrix with rank r. Then the image of the \\nunit sphere in\\n under the matrix transformation that maps \\nx to Axis \\na. the surface of an ellipsoid in\\n if r = n.\\nb. a solid ellipsoid in\\n if r < n.'"
            ]
          },
          "execution_count": 60,
          "metadata": {},
          "output_type": "execute_result"
        }
      ],
      "source": [
        "vector_index = FAISS.from_documents(documents, embed_model)\n",
        "#  사용자가 질문한 문장과의 유사도를 측정함\n",
        "retrieved = vector_index.similarity_search(\"I love Tokyo\")\n",
        "# 가장 유사한 문서 출력\n",
        "retrieved[0].page_content"
      ]
    },
    {
      "cell_type": "markdown",
      "id": "7e34a947-a7d3-4bde-b2c5-6b64d4a5247b",
      "metadata": {
        "id": "7e34a947-a7d3-4bde-b2c5-6b64d4a5247b"
      },
      "source": [
        "### FAISS"
      ]
    },
    {
      "cell_type": "code",
      "execution_count": null,
      "id": "aafa4d70-5a56-4784-90dc-171bb2eaf17a",
      "metadata": {
        "id": "aafa4d70-5a56-4784-90dc-171bb2eaf17a"
      },
      "outputs": [],
      "source": [
        "from langchain_community.vectorstores import FAISS\n",
        "\n",
        "vector_index = FAISS.from_documents(documents, embed_model)"
      ]
    },
    {
      "cell_type": "code",
      "execution_count": 62,
      "id": "61289f2d-06fe-4e88-a166-0c0b7d1f1636",
      "metadata": {
        "id": "61289f2d-06fe-4e88-a166-0c0b7d1f1636",
        "outputId": "54d5f8ca-e63b-411d-e579-3e29bc1807f3"
      },
      "outputs": [
        {
          "data": {
            "text/plain": [
              "'23Example 7.32\\nFind the pseudoinverse of\\nSolution:\\nFrom the definition of the pseudoinverse of A, we have'"
            ]
          },
          "execution_count": 62,
          "metadata": {},
          "output_type": "execute_result"
        }
      ],
      "source": [
        "retrieved = vector_index.similarity_search(\"What is MistralAI?\")\n",
        "retrieved[0].page_content"
      ]
    },
    {
      "cell_type": "code",
      "execution_count": null,
      "id": "3b553f71-146c-4543-8159-5ff6ef637fee",
      "metadata": {
        "id": "3b553f71-146c-4543-8159-5ff6ef637fee"
      },
      "outputs": [],
      "source": []
    },
    {
      "cell_type": "code",
      "execution_count": null,
      "id": "d3e6a3bc-cae7-4cf9-b825-bb065a072b80",
      "metadata": {
        "id": "d3e6a3bc-cae7-4cf9-b825-bb065a072b80"
      },
      "outputs": [],
      "source": []
    },
    {
      "cell_type": "markdown",
      "id": "bdea8556-6f47-4882-a30f-41997c9fd2c9",
      "metadata": {
        "id": "bdea8556-6f47-4882-a30f-41997c9fd2c9"
      },
      "source": [
        "### search_type\n",
        "* mmr: maximal marginal relevance retrieval\n",
        "* similarity_score_threshold\n",
        "* top_k"
      ]
    },
    {
      "cell_type": "code",
      "execution_count": 64,
      "id": "630b4927-87c9-4ec5-b343-32392c6966ff",
      "metadata": {
        "id": "630b4927-87c9-4ec5-b343-32392c6966ff"
      },
      "outputs": [],
      "source": [
        "query = 'OpenAI의 sora모델에 대해 알려줘'"
      ]
    },
    {
      "cell_type": "code",
      "execution_count": 65,
      "id": "18624d5e-d122-44d7-9efe-e9c76d48bac8",
      "metadata": {
        "id": "18624d5e-d122-44d7-9efe-e9c76d48bac8",
        "outputId": "3ccf119a-eb73-4992-de2b-b9aaa97e2e19"
      },
      "outputs": [
        {
          "name": "stderr",
          "output_type": "stream",
          "text": [
            "c:\\Users\\RSM\\AppData\\Local\\Programs\\Python\\Python312\\Lib\\site-packages\\langchain_core\\_api\\deprecation.py:139: LangChainDeprecationWarning: The method `BaseRetriever.get_relevant_documents` was deprecated in langchain-core 0.1.46 and will be removed in 0.3.0. Use invoke instead.\n",
            "  warn_deprecated(\n"
          ]
        },
        {
          "data": {
            "text/plain": [
              "[Document(page_content='18The Singular Value Decomposition (3 of 5)\\nTheorem 7.14 \\nThe Outer Product Form of the SVD\\nLet A be an m ×n matrix with singular values                       \\nσ1≥ σ2≥ ... ≥ σr> 0 and σr+1= σr+2= ... = σn= 0. Let               \\nu1, ... , urbe left singular vectors and let v1, ... , vrbe right \\nsingular vectors of A corresponding to these singular values. \\nThen', metadata={'source': 'C:\\\\Users\\\\RSM\\\\OneDrive\\\\바탕 화면\\\\API 스터디\\\\Chapter 7.pdf', 'page': 17}),\n",
              " Document(page_content='21\\nThe Pseudoinverse of a Matrix', metadata={'source': 'C:\\\\Users\\\\RSM\\\\OneDrive\\\\바탕 화면\\\\API 스터디\\\\Chapter 7.pdf', 'page': 20}),\n",
              " Document(page_content='10Example 7.34 –Solution (1 of 8)\\nand find that its eigenvalues are λ1= 2, λ2= 1, and λ3= 0, \\nwith corresponding eigenvectors\\nVerify this. These vectors are orthogonal, so we normalize \\nthem to obtain', metadata={'source': 'C:\\\\Users\\\\RSM\\\\OneDrive\\\\바탕 화면\\\\API 스터디\\\\Chapter 7.pdf', 'page': 9}),\n",
              " Document(page_content='17Example 7.34 –Solution (8 of 8)\\nand we have the SVD', metadata={'source': 'C:\\\\Users\\\\RSM\\\\OneDrive\\\\바탕 화면\\\\API 스터디\\\\Chapter 7.pdf', 'page': 16})]"
            ]
          },
          "execution_count": 65,
          "metadata": {},
          "output_type": "execute_result"
        }
      ],
      "source": [
        "# MMR 검색 방식 채택 -> 관련성과 함께 결과의 다양성도 같이 고려함\n",
        "retriever = vector_index.as_retriever(search_type=\"mmr\")\n",
        "retriever.get_relevant_documents(query)"
      ]
    },
    {
      "cell_type": "code",
      "execution_count": 66,
      "id": "192cb111-c631-4f8b-b7ac-ee8453fb6e15",
      "metadata": {
        "id": "192cb111-c631-4f8b-b7ac-ee8453fb6e15",
        "outputId": "aa115403-310c-4230-b762-6c65d5789704",
        "scrolled": true
      },
      "outputs": [
        {
          "name": "stderr",
          "output_type": "stream",
          "text": [
            "c:\\Users\\RSM\\AppData\\Local\\Programs\\Python\\Python312\\Lib\\site-packages\\langchain_core\\vectorstores.py:379: UserWarning: Relevance scores must be between 0 and 1, got [(Document(page_content='18The Singular Value Decomposition (3 of 5)\\nTheorem 7.14 \\nThe Outer Product Form of the SVD\\nLet A be an m ×n matrix with singular values                       \\nσ1≥ σ2≥ ... ≥ σr> 0 and σr+1= σr+2= ... = σn= 0. Let               \\nu1, ... , urbe left singular vectors and let v1, ... , vrbe right \\nsingular vectors of A corresponding to these singular values. \\nThen', metadata={'source': 'C:\\\\Users\\\\RSM\\\\OneDrive\\\\바탕 화면\\\\API 스터디\\\\Chapter 7.pdf', 'page': 17}), -0.1657379970888775), (Document(page_content='6\\nThe Singular Value Decomposition', metadata={'source': 'C:\\\\Users\\\\RSM\\\\OneDrive\\\\바탕 화면\\\\API 스터디\\\\Chapter 7.pdf', 'page': 5}), -0.17365924438540903), (Document(page_content='20The Singular Value Decomposition (5 of 5)\\nTheorem 7.16 \\nLet A be an m ×n matrix with rank r. Then the image of the \\nunit sphere in\\n under the matrix transformation that maps \\nx to Axis \\na. the surface of an ellipsoid in\\n if r = n.\\nb. a solid ellipsoid in\\n if r < n.', metadata={'source': 'C:\\\\Users\\\\RSM\\\\OneDrive\\\\바탕 화면\\\\API 스터디\\\\Chapter 7.pdf', 'page': 19}), -0.17772481368646686), (Document(page_content='Copyright ©  Cengage Learning. All rights reserved. \\n7.4The Singular Value Decomposition', metadata={'source': 'C:\\\\Users\\\\RSM\\\\OneDrive\\\\바탕 화면\\\\API 스터디\\\\Chapter 7.pdf', 'page': 1}), -0.18028810071920232)]\n",
            "  warnings.warn(\n",
            "c:\\Users\\RSM\\AppData\\Local\\Programs\\Python\\Python312\\Lib\\site-packages\\langchain_core\\vectorstores.py:391: UserWarning: No relevant docs were retrieved using the relevance score threshold 0.3\n",
            "  warnings.warn(\n"
          ]
        },
        {
          "data": {
            "text/plain": [
              "[]"
            ]
          },
          "execution_count": 66,
          "metadata": {},
          "output_type": "execute_result"
        }
      ],
      "source": [
        "# 임계값 설정\n",
        "retriever = vector_index.as_retriever(\n",
        "    # 유사도가 0.3 이상인 문자들만 반환함\n",
        "    search_type=\"similarity_score_threshold\", search_kwargs={\"score_threshold\": 0.3}\n",
        ")\n",
        "retriever.get_relevant_documents(query)"
      ]
    },
    {
      "cell_type": "code",
      "execution_count": 67,
      "id": "858835e3-1340-4f95-984b-4508b7595c72",
      "metadata": {
        "id": "858835e3-1340-4f95-984b-4508b7595c72",
        "outputId": "96130ee5-c6f0-44f6-ea99-82b5787cd280"
      },
      "outputs": [
        {
          "data": {
            "text/plain": [
              "[Document(page_content='18The Singular Value Decomposition (3 of 5)\\nTheorem 7.14 \\nThe Outer Product Form of the SVD\\nLet A be an m ×n matrix with singular values                       \\nσ1≥ σ2≥ ... ≥ σr> 0 and σr+1= σr+2= ... = σn= 0. Let               \\nu1, ... , urbe left singular vectors and let v1, ... , vrbe right \\nsingular vectors of A corresponding to these singular values. \\nThen', metadata={'source': 'C:\\\\Users\\\\RSM\\\\OneDrive\\\\바탕 화면\\\\API 스터디\\\\Chapter 7.pdf', 'page': 17}),\n",
              " Document(page_content='6\\nThe Singular Value Decomposition', metadata={'source': 'C:\\\\Users\\\\RSM\\\\OneDrive\\\\바탕 화면\\\\API 스터디\\\\Chapter 7.pdf', 'page': 5}),\n",
              " Document(page_content='20The Singular Value Decomposition (5 of 5)\\nTheorem 7.16 \\nLet A be an m ×n matrix with rank r. Then the image of the \\nunit sphere in\\n under the matrix transformation that maps \\nx to Axis \\na. the surface of an ellipsoid in\\n if r = n.\\nb. a solid ellipsoid in\\n if r < n.', metadata={'source': 'C:\\\\Users\\\\RSM\\\\OneDrive\\\\바탕 화면\\\\API 스터디\\\\Chapter 7.pdf', 'page': 19})]"
            ]
          },
          "execution_count": 67,
          "metadata": {},
          "output_type": "execute_result"
        }
      ],
      "source": [
        "# k를 3으로 설정해서 가장 유사한 3개의 문장만 출력하도록 함\n",
        "retriever = vector_index.as_retriever(search_kwargs={\"k\": 3})\n",
        "retriever.get_relevant_documents(query)"
      ]
    },
    {
      "cell_type": "markdown",
      "id": "c22e01a9-e422-4d19-99af-b3269c93b8d0",
      "metadata": {
        "id": "c22e01a9-e422-4d19-99af-b3269c93b8d0"
      },
      "source": [
        "### Multi Query etriever"
      ]
    },
    {
      "cell_type": "code",
      "execution_count": 68,
      "id": "e1a7a932-36bc-4997-9c88-d07e07f7f54f",
      "metadata": {
        "id": "e1a7a932-36bc-4997-9c88-d07e07f7f54f"
      },
      "outputs": [],
      "source": [
        "# 프로그램 실행 중 발생하는 이벤트를 기록함\n",
        "import logging\n",
        "\n",
        "# 인자 없이 호출됨(기본 설정)\n",
        "logging.basicConfig()\n",
        "# 상세한 로깅 -> 단순한 Warning 보다 더 상세한 정보를 제공\n",
        "logging.getLogger(\"langchain.retrievers.multi_query\").setLevel(logging.INFO)"
      ]
    },
    {
      "cell_type": "code",
      "execution_count": 69,
      "id": "30b56fc0-fb0d-4de4-8314-fb94d810e8c7",
      "metadata": {
        "id": "30b56fc0-fb0d-4de4-8314-fb94d810e8c7"
      },
      "outputs": [],
      "source": [
        "# OpenAI 챗봇 모델을 Langchain 환경에서 사용할 수 있게 해줌\n",
        "from langchain_openai import ChatOpenAI\n",
        "# temperature = 0으로 설정하여 최대한 객관적인 답변을 받음 \n",
        "llm = ChatOpenAI(temperature=0)"
      ]
    },
    {
      "cell_type": "code",
      "execution_count": 70,
      "id": "906ea2dc-8372-4f04-adfb-9a4fb1722b02",
      "metadata": {
        "id": "906ea2dc-8372-4f04-adfb-9a4fb1722b02"
      },
      "outputs": [],
      "source": [
        "# 다수의 query를 처리할 수 있게 해주는 라이브러리\n",
        "from langchain.retrievers.multi_query import MultiQueryRetriever\n",
        "retriever_multi = MultiQueryRetriever.from_llm(\n",
        "    retriever=vector_index.as_retriever(), llm=llm\n",
        ")"
      ]
    },
    {
      "cell_type": "code",
      "execution_count": 72,
      "id": "a15141bd-0faa-46cb-98cf-358da397cafd",
      "metadata": {
        "id": "a15141bd-0faa-46cb-98cf-358da397cafd",
        "outputId": "8d00853a-eff9-4f8c-f61c-669520e4918a"
      },
      "outputs": [
        {
          "name": "stderr",
          "output_type": "stream",
          "text": [
            "INFO:langchain.retrievers.multi_query:Generated queries: ['1. Pseudoinverse란 무엇인가요?', '2. Pseudoinverse에 대한 정보를 알려주세요.', '3. Pseudoinverse의 개념과 사용법을 설명해주세요.']\n"
          ]
        },
        {
          "data": {
            "text/plain": [
              "[Document(page_content='21\\nThe Pseudoinverse of a Matrix', metadata={'source': 'C:\\\\Users\\\\RSM\\\\OneDrive\\\\바탕 화면\\\\API 스터디\\\\Chapter 7.pdf', 'page': 20}),\n",
              " Document(page_content='22The Pseudoinverse of a Matrix (1 of 2)\\nDefinition\\nIf A is a matrix with linearly independent columns, then the \\npseudoinverse of A is the matrix\\n defined by', metadata={'source': 'C:\\\\Users\\\\RSM\\\\OneDrive\\\\바탕 화면\\\\API 스터디\\\\Chapter 7.pdf', 'page': 21}),\n",
              " Document(page_content='24The Pseudoinverse of a Matrix (2 of 2)\\nTheorem 7.12\\nLet A be a matrix with linearly independent columns. Then \\nthe pseudoinverse\\n of A satisfies the following properties, \\ncalled the Penrose conditions for A:', metadata={'source': 'C:\\\\Users\\\\RSM\\\\OneDrive\\\\바탕 화면\\\\API 스터디\\\\Chapter 7.pdf', 'page': 23}),\n",
              " Document(page_content='23Example 7.32\\nFind the pseudoinverse of\\nSolution:\\nFrom the definition of the pseudoinverse of A, we have', metadata={'source': 'C:\\\\Users\\\\RSM\\\\OneDrive\\\\바탕 화면\\\\API 스터디\\\\Chapter 7.pdf', 'page': 22})]"
            ]
          },
          "execution_count": 72,
          "metadata": {},
          "output_type": "execute_result"
        }
      ],
      "source": [
        "retriever_multi.get_relevant_documents(query=\"Pseudoinverse에 대해 알려줘\")"
      ]
    },
    {
      "cell_type": "markdown",
      "id": "f3cb081f-f396-40bd-bf69-c70b2249cd26",
      "metadata": {
        "id": "f3cb081f-f396-40bd-bf69-c70b2249cd26"
      },
      "source": [
        "### Parent Document Retriever"
      ]
    },
    {
      "cell_type": "code",
      "execution_count": 73,
      "id": "d6e8b185-ba93-4967-8f32-81dff39c4bb6",
      "metadata": {
        "id": "d6e8b185-ba93-4967-8f32-81dff39c4bb6"
      },
      "outputs": [],
      "source": [
        "from langchain.retrievers import ParentDocumentRetriever\n",
        "# 문서를 메모리에 저장하기 위한 저장소 생성\n",
        "from langchain.storage import InMemoryStore\n",
        "\n",
        "store = InMemoryStore()\n",
        "\n",
        "# 계층적 분할\n",
        "parent_splitter = RecursiveCharacterTextSplitter(chunk_size=2000)\n",
        "child_splitter = RecursiveCharacterTextSplitter(chunk_size=400)\n",
        "\n",
        "# 컬렉션 이름 설정\n",
        "vector_index = Chroma(collection_name='split_parents', embedding_function=embed_model)\n",
        "\n",
        "retriever = ParentDocumentRetriever(\n",
        "    vectorstore=vector_index,\n",
        "    docstore=store,\n",
        "    child_splitter=child_splitter,\n",
        "    parent_splitter=parent_splitter,\n",
        ")"
      ]
    },
    {
      "cell_type": "code",
      "execution_count": 74,
      "id": "b46e96f8-3729-4f80-8390-9a6722599370",
      "metadata": {
        "id": "b46e96f8-3729-4f80-8390-9a6722599370",
        "outputId": "d884aed1-ac46-49d0-bd73-9e447fea04ac"
      },
      "outputs": [
        {
          "data": {
            "text/plain": [
              "<langchain_core.stores.InMemoryStore at 0x15095012c60>"
            ]
          },
          "execution_count": 74,
          "metadata": {},
          "output_type": "execute_result"
        }
      ],
      "source": [
        "retriever.docstore"
      ]
    },
    {
      "cell_type": "code",
      "execution_count": 75,
      "id": "75f35f1f-cb5e-4cf4-bf49-613d32276092",
      "metadata": {
        "id": "75f35f1f-cb5e-4cf4-bf49-613d32276092",
        "outputId": "66088c1b-6bcd-40ce-cb71-cb5e26771bf8"
      },
      "outputs": [
        {
          "data": {
            "text/plain": [
              "[]"
            ]
          },
          "execution_count": 75,
          "metadata": {},
          "output_type": "execute_result"
        }
      ],
      "source": [
        "retriever.get_relevant_documents(query=\"Pseudoinverse에 대해 알려줘\")"
      ]
    },
    {
      "cell_type": "code",
      "execution_count": 76,
      "id": "2b20184e-bc44-48d1-8cf5-f1c93d7563e5",
      "metadata": {
        "id": "2b20184e-bc44-48d1-8cf5-f1c93d7563e5"
      },
      "outputs": [],
      "source": [
        "retriever.add_documents(docs)"
      ]
    },
    {
      "cell_type": "code",
      "execution_count": 79,
      "id": "97de6274-82e2-49e7-8dcf-39988c8d6f89",
      "metadata": {
        "id": "97de6274-82e2-49e7-8dcf-39988c8d6f89",
        "outputId": "eee7a4a2-c88c-4142-ac83-f60b72047f13"
      },
      "outputs": [
        {
          "data": {
            "text/plain": [
              "[Document(page_content='21\\nThe Pseudoinverse of a Matrix', metadata={'source': 'C:\\\\Users\\\\RSM\\\\OneDrive\\\\바탕 화면\\\\API 스터디\\\\Chapter 7.pdf', 'page': 20}),\n",
              " Document(page_content='22The Pseudoinverse of a Matrix (1 of 2)\\nDefinition\\nIf A is a matrix with linearly independent columns, then the \\npseudoinverse of A is the matrix\\n defined by', metadata={'source': 'C:\\\\Users\\\\RSM\\\\OneDrive\\\\바탕 화면\\\\API 스터디\\\\Chapter 7.pdf', 'page': 21}),\n",
              " Document(page_content='24The Pseudoinverse of a Matrix (2 of 2)\\nTheorem 7.12\\nLet A be a matrix with linearly independent columns. Then \\nthe pseudoinverse\\n of A satisfies the following properties, \\ncalled the Penrose conditions for A:', metadata={'source': 'C:\\\\Users\\\\RSM\\\\OneDrive\\\\바탕 화면\\\\API 스터디\\\\Chapter 7.pdf', 'page': 23}),\n",
              " Document(page_content='23Example 7.32\\nFind the pseudoinverse of\\nSolution:\\nFrom the definition of the pseudoinverse of A, we have', metadata={'source': 'C:\\\\Users\\\\RSM\\\\OneDrive\\\\바탕 화면\\\\API 스터디\\\\Chapter 7.pdf', 'page': 22})]"
            ]
          },
          "execution_count": 79,
          "metadata": {},
          "output_type": "execute_result"
        }
      ],
      "source": [
        "retriever.get_relevant_documents(query=\"Pseudoinverse에 대해 알려줘\")"
      ]
    },
    {
      "cell_type": "code",
      "execution_count": null,
      "id": "55620b84-c778-42d2-8ee7-6ad547c30e5b",
      "metadata": {
        "id": "55620b84-c778-42d2-8ee7-6ad547c30e5b"
      },
      "outputs": [],
      "source": []
    },
    {
      "cell_type": "code",
      "execution_count": null,
      "id": "a0ea3556-0b92-4921-8717-ffe9f7fd22cc",
      "metadata": {
        "id": "a0ea3556-0b92-4921-8717-ffe9f7fd22cc"
      },
      "outputs": [],
      "source": []
    },
    {
      "cell_type": "code",
      "execution_count": null,
      "id": "d97da76c-9525-408b-b5c6-dc26a32c6315",
      "metadata": {
        "id": "d97da76c-9525-408b-b5c6-dc26a32c6315"
      },
      "outputs": [],
      "source": []
    },
    {
      "cell_type": "code",
      "execution_count": null,
      "id": "87e6393f-a641-4a10-b9a2-88e55a75b077",
      "metadata": {
        "id": "87e6393f-a641-4a10-b9a2-88e55a75b077"
      },
      "outputs": [],
      "source": []
    },
    {
      "cell_type": "code",
      "execution_count": null,
      "id": "79187768-eec9-4091-b1aa-30c12d8bdfe0",
      "metadata": {
        "id": "79187768-eec9-4091-b1aa-30c12d8bdfe0"
      },
      "outputs": [],
      "source": []
    },
    {
      "cell_type": "code",
      "execution_count": null,
      "id": "b089dffd-a2c6-47a9-9949-e7357cc48952",
      "metadata": {
        "id": "b089dffd-a2c6-47a9-9949-e7357cc48952"
      },
      "outputs": [],
      "source": []
    },
    {
      "cell_type": "code",
      "execution_count": null,
      "id": "8ddc88a5-c76c-45da-9bab-1b98eb48dd93",
      "metadata": {
        "id": "8ddc88a5-c76c-45da-9bab-1b98eb48dd93"
      },
      "outputs": [],
      "source": []
    },
    {
      "cell_type": "markdown",
      "id": "8f4f6ed0-cbe8-4260-9357-9ff1823322f8",
      "metadata": {
        "id": "8f4f6ed0-cbe8-4260-9357-9ff1823322f8"
      },
      "source": [
        "# Generator"
      ]
    },
    {
      "cell_type": "code",
      "execution_count": null,
      "id": "62f6b1dd-2774-4a79-8c8f-fe0c5d51a8f2",
      "metadata": {
        "id": "62f6b1dd-2774-4a79-8c8f-fe0c5d51a8f2"
      },
      "outputs": [],
      "source": [
        "from langchain_openai import ChatOpenAI\n",
        "\n",
        "llm = ChatOpenAI(temperature=0, model=\"gpt-3.5-turbo\")"
      ]
    },
    {
      "cell_type": "code",
      "execution_count": 81,
      "id": "bfdeff5d-2e34-4d4d-98a3-251869a88c90",
      "metadata": {
        "id": "bfdeff5d-2e34-4d4d-98a3-251869a88c90",
        "outputId": "fe548bfd-e11e-44c3-a13a-73875f3ab072"
      },
      "outputs": [
        {
          "data": {
            "text/plain": [
              "AIMessage(content='점심에 먹을 음식을 선택하는 것은 개인의 취향과 식사 습관에 따라 다를 수 있습니다. 몇 가지 옵션을 드려보겠습니다.\\n\\n1. 한식: 비빔밥, 불고기, 된장찌개\\n2. 중식: 짜장면, 탕수육, 볶음밥\\n3. 양식: 파스타, 스테이크, 샐러드\\n4. 일식: 초밥, 덮밥, 라멘\\n5. 패스트푸드: 햄버거, 피자, 샌드위치\\n\\n어떤 종류의 음식을 좋아하시나요? 원하는 음식을 선택하시고 즐거운 식사 되시길 바랍니다!', response_metadata={'token_usage': {'completion_tokens': 224, 'prompt_tokens': 23, 'total_tokens': 247}, 'model_name': 'gpt-3.5-turbo-0125', 'system_fingerprint': None, 'finish_reason': 'stop', 'logprobs': None}, id='run-1373abd0-2647-4052-b71d-43bb27795ce9-0', usage_metadata={'input_tokens': 23, 'output_tokens': 224, 'total_tokens': 247})"
            ]
          },
          "execution_count": 81,
          "metadata": {},
          "output_type": "execute_result"
        }
      ],
      "source": [
        "# invoke를 이용하여 모델에게 프롬프트를 전달하고 응답을 생성하도록 요청함\n",
        "llm.invoke(\"내일 점심에 뭐 먹을까?\")"
      ]
    },
    {
      "cell_type": "code",
      "execution_count": null,
      "id": "a1eb69b0-6093-4602-80b0-b3813b417c2e",
      "metadata": {
        "id": "a1eb69b0-6093-4602-80b0-b3813b417c2e"
      },
      "outputs": [],
      "source": []
    },
    {
      "cell_type": "code",
      "execution_count": null,
      "id": "02375861-3c01-4e7f-83a8-9174990a15fe",
      "metadata": {
        "id": "02375861-3c01-4e7f-83a8-9174990a15fe"
      },
      "outputs": [],
      "source": []
    },
    {
      "cell_type": "code",
      "execution_count": null,
      "id": "d90848e7-7c0f-4777-ad81-c80624495a96",
      "metadata": {
        "id": "d90848e7-7c0f-4777-ad81-c80624495a96"
      },
      "outputs": [],
      "source": []
    },
    {
      "cell_type": "code",
      "execution_count": null,
      "id": "1e721444-455f-403f-bd00-a672bb1091f2",
      "metadata": {
        "id": "1e721444-455f-403f-bd00-a672bb1091f2"
      },
      "outputs": [],
      "source": []
    },
    {
      "cell_type": "code",
      "execution_count": null,
      "id": "888a17f3-eca3-42e4-9430-2952e2a45379",
      "metadata": {
        "id": "888a17f3-eca3-42e4-9430-2952e2a45379"
      },
      "outputs": [],
      "source": []
    },
    {
      "cell_type": "markdown",
      "id": "7c47a5d1-7560-4a81-bccc-9277e409e4ac",
      "metadata": {
        "id": "7c47a5d1-7560-4a81-bccc-9277e409e4ac"
      },
      "source": [
        "# Chain"
      ]
    },
    {
      "cell_type": "markdown",
      "id": "2ff8b2ff-9721-4968-be72-e12c6a32ffef",
      "metadata": {
        "id": "2ff8b2ff-9721-4968-be72-e12c6a32ffef"
      },
      "source": [
        "#### simplest chain"
      ]
    },
    {
      "cell_type": "code",
      "execution_count": 82,
      "id": "23251216-59b6-4b12-8bcf-3b2c06b54cd2",
      "metadata": {
        "id": "23251216-59b6-4b12-8bcf-3b2c06b54cd2"
      },
      "outputs": [],
      "source": [
        "# 대화형 프롬프트를 생성하는 데에 사용\n",
        "from langchain_core.prompts import ChatPromptTemplate\n",
        "# 체인에서 데이터를 그대로 전달하는 데에 사용\n",
        "from langchain_core.runnables import RunnablePassthrough\n",
        "\n",
        "prompt = ChatPromptTemplate.from_template(\"Tell me something\")\n",
        "# 프롬프트와 언어 모델을 '|'를 통해 연결함\n",
        "chain = prompt | llm"
      ]
    },
    {
      "cell_type": "code",
      "execution_count": 83,
      "id": "c3189087-8fe2-4171-ba13-790c48b2ccb6",
      "metadata": {
        "id": "c3189087-8fe2-4171-ba13-790c48b2ccb6",
        "outputId": "d024b3ce-d676-4346-e0d4-62ea1a7fd1a0"
      },
      "outputs": [
        {
          "data": {
            "text/plain": [
              "AIMessage(content=\"Did you know that honey never spoils? Archaeologists have found pots of honey in ancient Egyptian tombs that are over 3,000 years old and still perfectly edible. Honey's low water content and acidic pH create an inhospitable environment for bacteria and microorganisms, allowing it to last indefinitely.\", response_metadata={'token_usage': {'completion_tokens': 61, 'prompt_tokens': 10, 'total_tokens': 71}, 'model_name': 'gpt-3.5-turbo-0125', 'system_fingerprint': None, 'finish_reason': 'stop', 'logprobs': None}, id='run-8a6f7f7d-e36c-434b-bc08-955a296bca27-0', usage_metadata={'input_tokens': 10, 'output_tokens': 61, 'total_tokens': 71})"
            ]
          },
          "execution_count": 83,
          "metadata": {},
          "output_type": "execute_result"
        }
      ],
      "source": [
        "# 이미 chain에 prompt가 들어가 있으므로 {}로 아무것도 전달하지 않음\n",
        "chain.invoke({})"
      ]
    },
    {
      "cell_type": "markdown",
      "id": "e1393b27-4bd3-4475-b932-12bc4f927a7f",
      "metadata": {
        "id": "e1393b27-4bd3-4475-b932-12bc4f927a7f"
      },
      "source": [
        "#### w. output parser"
      ]
    },
    {
      "cell_type": "code",
      "execution_count": null,
      "id": "fad1930b-84d0-496f-9a52-e07bc161b129",
      "metadata": {
        "id": "fad1930b-84d0-496f-9a52-e07bc161b129"
      },
      "outputs": [],
      "source": [
        "from langchain_core.prompts import ChatPromptTemplate\n",
        "from langchain_core.runnables import RunnablePassthrough\n",
        "# 모델의 답변을 문자열로 파싱하게 도와줌\n",
        "from langchain_core.output_parsers import StrOutputParser\n",
        "\n",
        "prompt = ChatPromptTemplate.from_template(\"Tell me something\")\n",
        "chain = prompt | llm | StrOutputParser()"
      ]
    },
    {
      "cell_type": "code",
      "execution_count": null,
      "id": "598d2bec-99b2-419e-8219-5dc08459b050",
      "metadata": {
        "id": "598d2bec-99b2-419e-8219-5dc08459b050",
        "outputId": "ad4531f3-2d42-4cba-dd78-a2a184209853"
      },
      "outputs": [
        {
          "data": {
            "text/plain": [
              "\"Did you know that honey never spoils? Archaeologists have found pots of honey in ancient Egyptian tombs that are over 3,000 years old and still perfectly edible. Honey's high sugar content and low moisture levels create an environment that is inhospitable to bacteria and microorganisms, allowing it to last indefinitely.\""
            ]
          },
          "execution_count": 81,
          "metadata": {},
          "output_type": "execute_result"
        }
      ],
      "source": [
        "chain.invoke({})"
      ]
    },
    {
      "cell_type": "markdown",
      "id": "f9313535-3f95-4b9c-a5e1-007777411717",
      "metadata": {
        "id": "f9313535-3f95-4b9c-a5e1-007777411717"
      },
      "source": [
        "#### w.prompting"
      ]
    },
    {
      "cell_type": "code",
      "execution_count": 85,
      "id": "a5193bcd-e2bc-4432-a1ed-62aea453a284",
      "metadata": {
        "id": "a5193bcd-e2bc-4432-a1ed-62aea453a284"
      },
      "outputs": [],
      "source": [
        "from langchain_core.prompts import ChatPromptTemplate\n",
        "from langchain_core.output_parsers import StrOutputParser\n",
        "\n",
        "# 주제만 나중에 따로 지정할 수 있음\n",
        "prompt = ChatPromptTemplate.from_template(\"Tell me something about {topic}\")\n",
        "chain = prompt | llm | StrOutputParser()"
      ]
    },
    {
      "cell_type": "code",
      "execution_count": 86,
      "id": "d4a3f6ab-fb3f-46e3-b92d-0995ef0b7b80",
      "metadata": {
        "id": "d4a3f6ab-fb3f-46e3-b92d-0995ef0b7b80",
        "outputId": "1ba838e9-076f-4250-da8f-d5b8761209aa"
      },
      "outputs": [
        {
          "data": {
            "text/plain": [
              "\"Cristiano Ronaldo is a Portuguese professional footballer who is widely regarded as one of the greatest footballers of all time. He has won numerous awards and accolades throughout his career, including multiple FIFA Ballon d'Or awards for the best player in the world. Ronaldo has played for top clubs such as Sporting Lisbon, Manchester United, Real Madrid, and Juventus, and has achieved great success at each of these clubs. He is known for his incredible goal-scoring ability, athleticism, and work ethic, and is considered one of the most complete players in the history of the sport. Ronaldo is also known for his philanthropy and charitable work, and has donated millions of dollars to various causes over the years.\""
            ]
          },
          "execution_count": 86,
          "metadata": {},
          "output_type": "execute_result"
        }
      ],
      "source": [
        "chain.invoke({'topic': 'christiano ronaldo'})"
      ]
    },
    {
      "cell_type": "markdown",
      "id": "15a54eab-9c75-44f2-bdc9-f75e1ef44ecc",
      "metadata": {
        "id": "15a54eab-9c75-44f2-bdc9-f75e1ef44ecc"
      },
      "source": [
        "#### equivalent to..."
      ]
    },
    {
      "cell_type": "code",
      "execution_count": 90,
      "id": "49f02d69-3001-4ef5-ba73-c789a70a8104",
      "metadata": {
        "id": "49f02d69-3001-4ef5-ba73-c789a70a8104",
        "outputId": "4564acd5-6659-49b0-b74e-7dc792d395e2"
      },
      "outputs": [
        {
          "data": {
            "text/plain": [
              "ChatPromptValue(messages=[HumanMessage(content='Tell me something about sora, developed by OpenAI')])"
            ]
          },
          "execution_count": 90,
          "metadata": {},
          "output_type": "execute_result"
        }
      ],
      "source": [
        "prompt_formatted = prompt.invoke({'topic': 'sora, developed by OpenAI'})\n",
        "prompt_formatted"
      ]
    },
    {
      "cell_type": "code",
      "execution_count": 91,
      "id": "e35d4bef-7682-47e0-a066-01aabacdd4d6",
      "metadata": {
        "id": "e35d4bef-7682-47e0-a066-01aabacdd4d6",
        "outputId": "6e971e87-6206-46f1-fbcd-70ce5f0dab0b"
      },
      "outputs": [
        {
          "data": {
            "text/plain": [
              "AIMessage(content='Sora is a large-scale language model developed by OpenAI that is designed to generate human-like text based on the input it receives. It is trained on a diverse range of internet text data to improve its ability to understand and generate natural language. Sora is capable of generating coherent and contextually relevant responses to a wide variety of prompts, making it a powerful tool for tasks such as text generation, language translation, and content creation.', response_metadata={'token_usage': {'completion_tokens': 87, 'prompt_tokens': 18, 'total_tokens': 105}, 'model_name': 'gpt-3.5-turbo-0125', 'system_fingerprint': None, 'finish_reason': 'stop', 'logprobs': None}, id='run-66ea77f5-e975-4f18-9701-545af59e0480-0', usage_metadata={'input_tokens': 18, 'output_tokens': 87, 'total_tokens': 105})"
            ]
          },
          "execution_count": 91,
          "metadata": {},
          "output_type": "execute_result"
        }
      ],
      "source": [
        "model_output = llm.invoke(prompt_formatted)\n",
        "model_output"
      ]
    },
    {
      "cell_type": "code",
      "execution_count": 92,
      "id": "8b9994bb-008d-425e-8331-d02055f0d400",
      "metadata": {
        "id": "8b9994bb-008d-425e-8331-d02055f0d400",
        "outputId": "a69978aa-7c52-4a21-9018-5096eea10fc4"
      },
      "outputs": [
        {
          "data": {
            "text/plain": [
              "'Sora is a large-scale language model developed by OpenAI that is designed to generate human-like text based on the input it receives. It is trained on a diverse range of internet text data to improve its ability to understand and generate natural language. Sora is capable of generating coherent and contextually relevant responses to a wide variety of prompts, making it a powerful tool for tasks such as text generation, language translation, and content creation.'"
            ]
          },
          "execution_count": 92,
          "metadata": {},
          "output_type": "execute_result"
        }
      ],
      "source": [
        "# 문자열만 나오도록 파싱\n",
        "parser = StrOutputParser()\n",
        "parser.invoke(model_output)"
      ]
    },
    {
      "cell_type": "markdown",
      "id": "d099c7db-8727-4244-ab29-4b927b153671",
      "metadata": {
        "id": "d099c7db-8727-4244-ab29-4b927b153671"
      },
      "source": [
        "#### Also equivalent to..."
      ]
    },
    {
      "cell_type": "code",
      "execution_count": null,
      "id": "b49bfe02-f738-4d96-ac79-a9b5c261883d",
      "metadata": {
        "id": "b49bfe02-f738-4d96-ac79-a9b5c261883d",
        "outputId": "ca783911-6184-4f0b-94c6-9dfacb4625c2"
      },
      "outputs": [
        {
          "data": {
            "text/plain": [
              "'Sora is a large-scale language model developed by OpenAI that is designed to generate human-like text based on the input it receives. It is trained on a diverse range of internet text data to improve its ability to understand and generate natural language. Sora is capable of generating coherent and contextually relevant responses to a wide variety of prompts, making it a powerful tool for tasks such as text generation, language translation, and content creation.'"
            ]
          },
          "execution_count": 92,
          "metadata": {},
          "output_type": "execute_result"
        }
      ],
      "source": [
        "# 이런 형식도 있다는 것을 알아두자\n",
        "(prompt | llm | parser).invoke({'topic': 'sora, developed by OpenAI'})"
      ]
    },
    {
      "cell_type": "markdown",
      "id": "071e336f-0699-418f-a241-fee8139d53b1",
      "metadata": {
        "id": "071e336f-0699-418f-a241-fee8139d53b1"
      },
      "source": [
        "## RAG chain"
      ]
    },
    {
      "cell_type": "code",
      "execution_count": 87,
      "id": "41a840b9-710d-4ecc-bebd-4ef2e9a43d1c",
      "metadata": {
        "id": "41a840b9-710d-4ecc-bebd-4ef2e9a43d1c",
        "outputId": "d84cd746-c782-4cc8-970a-509a009faabb"
      },
      "outputs": [
        {
          "data": {
            "text/plain": [
              "[Document(page_content='22The Pseudoinverse of a Matrix (1 of 2)\\nDefinition\\nIf A is a matrix with linearly independent columns, then the \\npseudoinverse of A is the matrix\\n defined by', metadata={'source': 'C:\\\\Users\\\\RSM\\\\OneDrive\\\\바탕 화면\\\\API 스터디\\\\Chapter 7.pdf', 'page': 21}),\n",
              " Document(page_content='21\\nThe Pseudoinverse of a Matrix', metadata={'source': 'C:\\\\Users\\\\RSM\\\\OneDrive\\\\바탕 화면\\\\API 스터디\\\\Chapter 7.pdf', 'page': 20}),\n",
              " Document(page_content='3\\nThe Singular Values of a Matrix', metadata={'source': 'C:\\\\Users\\\\RSM\\\\OneDrive\\\\바탕 화면\\\\API 스터디\\\\Chapter 7.pdf', 'page': 2}),\n",
              " Document(page_content='24The Pseudoinverse of a Matrix (2 of 2)\\nTheorem 7.12\\nLet A be a matrix with linearly independent columns. Then \\nthe pseudoinverse\\n of A satisfies the following properties, \\ncalled the Penrose conditions for A:', metadata={'source': 'C:\\\\Users\\\\RSM\\\\OneDrive\\\\바탕 화면\\\\API 스터디\\\\Chapter 7.pdf', 'page': 23})]"
            ]
          },
          "execution_count": 87,
          "metadata": {},
          "output_type": "execute_result"
        }
      ],
      "source": [
        "# 가지고 있는 문서에서 query에 해당하는 내용을 찾아줌\n",
        "retrieved_docs = retriever.invoke(\"Tell me something about matrix A\")\n",
        "retrieved_docs"
      ]
    },
    {
      "cell_type": "code",
      "execution_count": 93,
      "id": "394dc238-8f51-4a95-a834-f53aa90b9148",
      "metadata": {
        "id": "394dc238-8f51-4a95-a834-f53aa90b9148"
      },
      "outputs": [],
      "source": [
        "def merge_docs(retrieved_docs):\n",
        "    # 리스트의 각 요소를 \"\\n\\n\"을 구분자로 하여 합침\n",
        "    # d.page_content를 통해 문자열만 합침\n",
        "    return \"\\n\\n\".join([d.page_content for d in retrieved_docs])"
      ]
    },
    {
      "cell_type": "code",
      "execution_count": 94,
      "id": "10cc070b-8510-4368-9326-4abd697093f6",
      "metadata": {
        "id": "10cc070b-8510-4368-9326-4abd697093f6",
        "outputId": "14956524-048d-4e5c-a16a-7b08f7f84006"
      },
      "outputs": [
        {
          "name": "stdout",
          "output_type": "stream",
          "text": [
            "22The Pseudoinverse of a Matrix (1 of 2)\n",
            "Definition\n",
            "If A is a matrix with linearly independent columns, then the \n",
            "pseudoinverse of A is the matrix\n",
            " defined by\n",
            "\n",
            "21\n",
            "The Pseudoinverse of a Matrix\n",
            "\n",
            "3\n",
            "The Singular Values of a Matrix\n",
            "\n",
            "24The Pseudoinverse of a Matrix (2 of 2)\n",
            "Theorem 7.12\n",
            "Let A be a matrix with linearly independent columns. Then \n",
            "the pseudoinverse\n",
            " of A satisfies the following properties, \n",
            "called the Penrose conditions for A:\n"
          ]
        }
      ],
      "source": [
        "print(merge_docs(retrieved_docs))"
      ]
    },
    {
      "cell_type": "code",
      "execution_count": 96,
      "id": "297f6667-8460-46ef-aa3f-19d0a1b3b00d",
      "metadata": {
        "id": "297f6667-8460-46ef-aa3f-19d0a1b3b00d",
        "outputId": "9388b322-7774-4bef-84f8-542a92453f0f"
      },
      "outputs": [
        {
          "data": {
            "text/plain": [
              "'\\n\\nA^+ = (A^T * A)^-1 * A^T\\n\\nGiven matrix A:\\n\\nA = [1 2\\n     3 4\\n     5 6]\\n\\nCalculating A^T * A:\\n\\nA^T * A = [1 3 5\\n           2 4 6] * [1 2\\n                       3 4\\n                       5 6]\\n        = [35 44\\n           44 56]\\n\\nCalculating the inverse of A^T * A:\\n\\n(A^T * A)^-1 = 1/(35*56 - 44*44) * [56 -44\\n                                   -44 35]\\n            = 1/4 * [56 -44\\n                     -44 35]\\n            = [14 -11\\n               -11 8]\\n\\nCalculating A^+:\\n\\nA^+ = (A^T * A)^-1 * A^T\\n    = [14 -11\\n       -11 8] * [1 3 5\\n                 2 4 6]\\n    = [14*1 - 11*2 14*3 - 11*4 14*5 - 11*6\\n       -11*1 + 8*2 -11*3 + 8*4 -11*5 + 8*6]\\n    = [-8 -2 4\\n       6 2 -2]\\n\\nTherefore, the pseudoinverse of A is:\\n\\nA^+ = [-8 -2\\n        6 2\\n        4 -2]'"
            ]
          },
          "execution_count": 96,
          "metadata": {},
          "output_type": "execute_result"
        }
      ],
      "source": [
        "(retriever | merge_docs | llm | parser).invoke(\"Tell me something about pseudoinverse\")"
      ]
    },
    {
      "cell_type": "code",
      "execution_count": null,
      "id": "b66c67d7-3745-4f30-986f-ca9c6a7edd55",
      "metadata": {
        "id": "b66c67d7-3745-4f30-986f-ca9c6a7edd55"
      },
      "outputs": [],
      "source": []
    },
    {
      "cell_type": "markdown",
      "id": "657bbe38-7228-468c-95e5-834918eb1664",
      "metadata": {
        "id": "657bbe38-7228-468c-95e5-834918eb1664"
      },
      "source": [
        "### Runnable Parallel"
      ]
    },
    {
      "cell_type": "markdown",
      "id": "e24cc7dd-a8b3-4130-b38e-6137fe0e1d55",
      "metadata": {
        "id": "e24cc7dd-a8b3-4130-b38e-6137fe0e1d55"
      },
      "source": [
        "#### https://python.langchain.com/docs/expression_language/how_to/map"
      ]
    },
    {
      "cell_type": "code",
      "execution_count": 97,
      "id": "fcb4c07b-921d-4595-91f0-fbd5561dc57a",
      "metadata": {
        "id": "fcb4c07b-921d-4595-91f0-fbd5561dc57a",
        "outputId": "915de7f3-8899-4b5a-e930-39edc125f0c5"
      },
      "outputs": [
        {
          "data": {
            "text/plain": [
              "{\n",
              "  context: ParentDocumentRetriever(vectorstore=<langchain_community.vectorstores.chroma.Chroma object at 0x0000015095C44E60>, docstore=<langchain_core.stores.InMemoryStore object at 0x0000015095012C60>, child_splitter=<langchain_text_splitters.character.RecursiveCharacterTextSplitter object at 0x0000015095C46CC0>, parent_splitter=<langchain_text_splitters.character.RecursiveCharacterTextSplitter object at 0x0000015095C448F0>),\n",
              "  llm: ChatOpenAI(client=<openai.resources.chat.completions.Completions object at 0x00000150950104D0>, async_client=<openai.resources.chat.completions.AsyncCompletions object at 0x0000015095C44EC0>, temperature=0.0, openai_api_key=SecretStr('**********'), openai_proxy='')\n",
              "}"
            ]
          },
          "execution_count": 97,
          "metadata": {},
          "output_type": "execute_result"
        }
      ],
      "source": [
        "# 병렬 실행 체인을 구성할 수 있도록 도와줌\n",
        "from langchain_core.runnables import RunnableParallel\n",
        "\n",
        "# retruever를 사용하여 관련 문서를 검색함과 동시에\n",
        "# llm을 사용하여 언어 모델 작업을 수행함\n",
        "chain_parallel = RunnableParallel({\"context\": retriever, \"llm\": llm})\n",
        "chain_parallel"
      ]
    },
    {
      "cell_type": "code",
      "execution_count": 98,
      "id": "380f24bc-0151-4923-84e7-1196d6d7a6c1",
      "metadata": {
        "id": "380f24bc-0151-4923-84e7-1196d6d7a6c1",
        "outputId": "7c6838b1-2d2a-4d99-e35f-3fae10dd17e2"
      },
      "outputs": [
        {
          "data": {
            "text/plain": [
              "{'context': [Document(page_content='6\\nThe Singular Value Decomposition', metadata={'source': 'C:\\\\Users\\\\RSM\\\\OneDrive\\\\바탕 화면\\\\API 스터디\\\\Chapter 7.pdf', 'page': 5}),\n",
              "  Document(page_content='Copyright ©  Cengage Learning. All rights reserved. \\n7.4The Singular Value Decomposition', metadata={'source': 'C:\\\\Users\\\\RSM\\\\OneDrive\\\\바탕 화면\\\\API 스터디\\\\Chapter 7.pdf', 'page': 1}),\n",
              "  Document(page_content='20The Singular Value Decomposition (5 of 5)\\nTheorem 7.16 \\nLet A be an m ×n matrix with rank r. Then the image of the \\nunit sphere in\\n under the matrix transformation that maps \\nx to Axis \\na. the surface of an ellipsoid in\\n if r = n.\\nb. a solid ellipsoid in\\n if r < n.', metadata={'source': 'C:\\\\Users\\\\RSM\\\\OneDrive\\\\바탕 화면\\\\API 스터디\\\\Chapter 7.pdf', 'page': 19}),\n",
              "  Document(page_content='17Example 7.34 –Solution (8 of 8)\\nand we have the SVD', metadata={'source': 'C:\\\\Users\\\\RSM\\\\OneDrive\\\\바탕 화면\\\\API 스터디\\\\Chapter 7.pdf', 'page': 16})],\n",
              " 'llm': AIMessage(content='Sora is a large-scale language model developed by OpenAI that is designed to generate human-like text based on the input it receives. It is trained on a diverse range of internet text data to improve its ability to understand and generate natural language. Sora is capable of generating coherent and contextually relevant responses to a wide variety of prompts, making it a powerful tool for tasks such as text generation, language translation, and content creation.', response_metadata={'token_usage': {'completion_tokens': 87, 'prompt_tokens': 18, 'total_tokens': 105}, 'model_name': 'gpt-3.5-turbo-0125', 'system_fingerprint': None, 'finish_reason': 'stop', 'logprobs': None}, id='run-d6725e66-bb58-4bfe-a5b6-ba1e16109063-0', usage_metadata={'input_tokens': 18, 'output_tokens': 87, 'total_tokens': 105})}"
            ]
          },
          "execution_count": 98,
          "metadata": {},
          "output_type": "execute_result"
        }
      ],
      "source": [
        "chain_parallel.invoke(\"Tell me something about sora, developed by OpenAI\")"
      ]
    },
    {
      "cell_type": "markdown",
      "id": "87e34b69-7d3f-4630-85c7-d244708dedfb",
      "metadata": {
        "id": "87e34b69-7d3f-4630-85c7-d244708dedfb"
      },
      "source": [
        "#### RunnablePassthrough(병렬 처리)"
      ]
    },
    {
      "cell_type": "code",
      "execution_count": 99,
      "id": "dbc77782-a96b-45d8-ba9a-ca90536abe2b",
      "metadata": {
        "id": "dbc77782-a96b-45d8-ba9a-ca90536abe2b",
        "outputId": "9e176c69-0ec2-4ffd-dac7-22dc16bb0a30"
      },
      "outputs": [
        {
          "data": {
            "text/plain": [
              "{\n",
              "  context: ParentDocumentRetriever(vectorstore=<langchain_community.vectorstores.chroma.Chroma object at 0x0000015095C44E60>, docstore=<langchain_core.stores.InMemoryStore object at 0x0000015095012C60>, child_splitter=<langchain_text_splitters.character.RecursiveCharacterTextSplitter object at 0x0000015095C46CC0>, parent_splitter=<langchain_text_splitters.character.RecursiveCharacterTextSplitter object at 0x0000015095C448F0>),\n",
              "  query: RunnablePassthrough()\n",
              "}"
            ]
          },
          "execution_count": 99,
          "metadata": {},
          "output_type": "execute_result"
        }
      ],
      "source": [
        "# 입력을 그대로 통과시키는 역할을 함\n",
        "from langchain_core.runnables import RunnablePassthrough\n",
        "\n",
        "# 원본 query를 그대로 전달\n",
        "chain_parallel = RunnableParallel({\"context\": retriever, \"query\": RunnablePassthrough()})\n",
        "chain_parallel"
      ]
    },
    {
      "cell_type": "code",
      "execution_count": 100,
      "id": "e5d52f40-fcdb-4e4b-9ea0-ffc28faadfef",
      "metadata": {
        "id": "e5d52f40-fcdb-4e4b-9ea0-ffc28faadfef",
        "outputId": "0240258b-a166-4319-afc2-43c5ff8228f0"
      },
      "outputs": [
        {
          "data": {
            "text/plain": [
              "{'context': [Document(page_content='6\\nThe Singular Value Decomposition', metadata={'source': 'C:\\\\Users\\\\RSM\\\\OneDrive\\\\바탕 화면\\\\API 스터디\\\\Chapter 7.pdf', 'page': 5}),\n",
              "  Document(page_content='Copyright ©  Cengage Learning. All rights reserved. \\n7.4The Singular Value Decomposition', metadata={'source': 'C:\\\\Users\\\\RSM\\\\OneDrive\\\\바탕 화면\\\\API 스터디\\\\Chapter 7.pdf', 'page': 1}),\n",
              "  Document(page_content='20The Singular Value Decomposition (5 of 5)\\nTheorem 7.16 \\nLet A be an m ×n matrix with rank r. Then the image of the \\nunit sphere in\\n under the matrix transformation that maps \\nx to Axis \\na. the surface of an ellipsoid in\\n if r = n.\\nb. a solid ellipsoid in\\n if r < n.', metadata={'source': 'C:\\\\Users\\\\RSM\\\\OneDrive\\\\바탕 화면\\\\API 스터디\\\\Chapter 7.pdf', 'page': 19}),\n",
              "  Document(page_content='17Example 7.34 –Solution (8 of 8)\\nand we have the SVD', metadata={'source': 'C:\\\\Users\\\\RSM\\\\OneDrive\\\\바탕 화면\\\\API 스터디\\\\Chapter 7.pdf', 'page': 16})],\n",
              " 'query': 'Tell me something about sora, developed by OpenAI'}"
            ]
          },
          "execution_count": 100,
          "metadata": {},
          "output_type": "execute_result"
        }
      ],
      "source": [
        "chain_parallel.invoke(\"Tell me something about sora, developed by OpenAI\")"
      ]
    },
    {
      "cell_type": "code",
      "execution_count": 101,
      "id": "c33a1fd9-7b53-40c1-8a8f-d41bd610faa8",
      "metadata": {
        "id": "c33a1fd9-7b53-40c1-8a8f-d41bd610faa8"
      },
      "outputs": [],
      "source": [
        "template = \"\"\"\n",
        "Utilizing the context given below, answer the question.\n",
        "[context]\n",
        "{context}\n",
        "\n",
        "question: {query}\n",
        "\"\"\"\n",
        "\n",
        "prompt = ChatPromptTemplate.from_template(template)\n",
        "# query를 그대로 전달함\n",
        "# 파싱하여 문자열만 출력함\n",
        "chain = RunnableParallel({\"context\": retriever, \"query\": RunnablePassthrough()})\\\n",
        "        | prompt \\\n",
        "        | llm \\\n",
        "        | StrOutputParser()"
      ]
    },
    {
      "cell_type": "code",
      "execution_count": 102,
      "id": "b01489e5-ef51-41a7-943a-6e056218cd45",
      "metadata": {
        "id": "b01489e5-ef51-41a7-943a-6e056218cd45",
        "outputId": "91b21654-bea8-43ed-af52-95a65f2b034f"
      },
      "outputs": [
        {
          "data": {
            "text/plain": [
              "'The pseudoinverse of matrix A is defined as the matrix that is obtained when A has linearly independent columns. It satisfies certain properties known as the Penrose conditions for A.'"
            ]
          },
          "execution_count": 102,
          "metadata": {},
          "output_type": "execute_result"
        }
      ],
      "source": [
        "chain.invoke(\"Tell me something about pseudoinverse od matrix A\")"
      ]
    },
    {
      "cell_type": "markdown",
      "id": "dd8fd4e1-1c1e-4440-9fc7-e78b6b812863",
      "metadata": {
        "id": "dd8fd4e1-1c1e-4440-9fc7-e78b6b812863"
      },
      "source": [
        "#### equivalent to..."
      ]
    },
    {
      "cell_type": "code",
      "execution_count": null,
      "id": "8bb181b8-5efb-4f6c-884d-6400df819127",
      "metadata": {
        "id": "8bb181b8-5efb-4f6c-884d-6400df819127"
      },
      "outputs": [],
      "source": [
        "chain = RunnableParallel(context=retriever, query=RunnablePassthrough()) \\\n",
        "        | prompt \\\n",
        "        | llm \\\n",
        "        | StrOutputParser()"
      ]
    },
    {
      "cell_type": "code",
      "execution_count": null,
      "id": "2c8f093b-75ea-4185-a46a-c6aa611430a2",
      "metadata": {
        "id": "2c8f093b-75ea-4185-a46a-c6aa611430a2",
        "outputId": "b4e4d9f7-0779-4259-da72-a2c1e62608de"
      },
      "outputs": [
        {
          "data": {
            "text/plain": [
              "'Sora is a text-to-video model developed by OpenAI that can generate videos based on short descriptive prompts and extend existing videos forwards or backwards in time. It can generate videos with resolutions up to 1920x1080 or 1080x1920. The team named it after the Japanese word for sky to signify its \"limitless creative potential\". Sora is an adaptation of the technology behind the DALL·E 3 text-to-image model. OpenAI trained the system using publicly-available videos as well as copyrighted videos licensed for the purpose. The technology was demonstrated to the public on February 15, 2024, showcasing the ability to generate videos up to one minute long.'"
            ]
          },
          "execution_count": 146,
          "metadata": {},
          "output_type": "execute_result"
        }
      ],
      "source": [
        "chain.invoke(\"Tell me something about sora, developed by OpenAI\")"
      ]
    },
    {
      "cell_type": "markdown",
      "id": "4746c0bd-0ea3-4512-9c45-b931bc5becb0",
      "metadata": {
        "id": "4746c0bd-0ea3-4512-9c45-b931bc5becb0"
      },
      "source": [
        "### Anything can be passed"
      ]
    },
    {
      "cell_type": "code",
      "execution_count": null,
      "id": "b0331744-c0be-4457-8e36-e8ea452d38e3",
      "metadata": {
        "id": "b0331744-c0be-4457-8e36-e8ea452d38e3"
      },
      "outputs": [],
      "source": [
        "# 항상 bar를 반환하는 함수\n",
        "def foo(anything):\n",
        "    return 'bar'"
      ]
    },
    {
      "cell_type": "code",
      "execution_count": null,
      "id": "7cdd9282-2769-48ed-9526-5a8cd7c3189d",
      "metadata": {
        "id": "7cdd9282-2769-48ed-9526-5a8cd7c3189d"
      },
      "outputs": [],
      "source": [
        "# 세 가지 일을 동시에 수행하는 병렬 체인\n",
        "# bar에 원하는 추가정보를 넣음으로써 구체적으로 원하는 결과를 얻을 수 있다.\n",
        "chain = RunnableParallel(context=retriever, query=RunnablePassthrough(), asdf=foo) \\\n",
        "        | prompt \\\n",
        "        | llm \\\n",
        "        | StrOutputParser()"
      ]
    },
    {
      "cell_type": "code",
      "execution_count": null,
      "id": "d5e038a1-6513-42ea-ae3f-f6f564902c2f",
      "metadata": {
        "id": "d5e038a1-6513-42ea-ae3f-f6f564902c2f",
        "outputId": "a4c781d4-0660-4e71-aea9-c921b2d0b6ca",
        "scrolled": true
      },
      "outputs": [
        {
          "data": {
            "text/plain": [
              "'Sora is a text-to-video model developed by OpenAI that can generate videos based on short descriptive prompts and extend existing videos forwards or backwards in time. It can generate videos with resolutions up to 1920x1080 or 1080x1920. The team named Sora after the Japanese word for sky to signify its \"limitless creative potential\". The technology behind Sora is an adaptation of the technology behind the DALL·E 3 text-to-image model. OpenAI trained the system using publicly-available videos as well as copyrighted videos licensed for the purpose. Sora was demonstrated to the general public on February 15, 2024, with the technology being able to generate videos up to one minute long.'"
            ]
          },
          "execution_count": 155,
          "metadata": {},
          "output_type": "execute_result"
        }
      ],
      "source": [
        "chain.invoke(\"Tell me something about sora, developed by OpenAI\")"
      ]
    },
    {
      "cell_type": "markdown",
      "id": "9686414d-95e1-406e-80fd-9fe61674cd31",
      "metadata": {
        "id": "9686414d-95e1-406e-80fd-9fe61674cd31"
      },
      "source": [
        "#### also equivalent to..."
      ]
    },
    {
      "cell_type": "code",
      "execution_count": null,
      "id": "964b58a2-7a34-46b2-846a-3899993f466e",
      "metadata": {
        "id": "964b58a2-7a34-46b2-846a-3899993f466e"
      },
      "outputs": [],
      "source": [
        "chain = {\"context\": retriever, \"query\": RunnablePassthrough()} \\\n",
        "        | prompt \\\n",
        "        | llm \\\n",
        "        | StrOutputParser()"
      ]
    },
    {
      "cell_type": "code",
      "execution_count": null,
      "id": "274108ba-0f23-420d-9075-99630b1b9c60",
      "metadata": {
        "id": "274108ba-0f23-420d-9075-99630b1b9c60",
        "outputId": "008fb819-291e-4b94-d93c-846262c6f182"
      },
      "outputs": [
        {
          "data": {
            "text/plain": [
              "'Sora is a text-to-video model developed by OpenAI that can generate videos based on short descriptive prompts and extend existing videos forwards or backwards in time. It can generate videos with resolutions up to 1920x1080 or 1080x1920. The team named it after the Japanese word for sky to signify its \"limitless creative potential\". Sora is an adaptation of the technology behind the DALL·E 3 text-to-image model. OpenAI demonstrated Sora\\'s capabilities by showcasing high-definition videos to the public, stating that the technology was able to generate videos up to one minute long.'"
            ]
          },
          "execution_count": 157,
          "metadata": {},
          "output_type": "execute_result"
        }
      ],
      "source": [
        "chain.invoke(\"Tell me something about sora, developed by OpenAI\")"
      ]
    },
    {
      "cell_type": "markdown",
      "id": "b4d1a683-1a26-4a56-9461-15016faf256c",
      "metadata": {
        "id": "b4d1a683-1a26-4a56-9461-15016faf256c"
      },
      "source": [
        "#### Add formatting"
      ]
    },
    {
      "cell_type": "code",
      "execution_count": null,
      "id": "a33995cf-a5fc-4aa5-ba39-8e5b36e90144",
      "metadata": {
        "id": "a33995cf-a5fc-4aa5-ba39-8e5b36e90144",
        "outputId": "ae3416d3-55f4-402d-f11a-2b0e9ed4f906"
      },
      "outputs": [
        {
          "name": "stdout",
          "output_type": "stream",
          "text": [
            "\n",
            "Utilizing the context given below, answer the question.\n",
            "[context]\n",
            "[Document(page_content='=== Text\\n\\nto\\n\\nvideo ===\\n\\n==== Sora ====\\n\\nSora is a text-to-video model that can generate videos based on short descriptive prompts as well as extend existing videos forwards or backwards in time. It can generate videos with resolution up to 1920x1080 or 1080x1920. The maximal length of generated videos is unknown. The team that developed Sora named it after the Japanese word for sky to signify its \"limitless creative potential\". The technology behind Sora is an adaptation of the technology behind the DALL·E 3 text-to-image model. OpenAI trained the system using publicly-available videos as well as copyrighted videos licensed for the purpose, but did not reveal the number or the exact source of the videos.OpenAI demonstrated a few Sora-created high-definition videos to the general public on February 15, 2024, stating that the technology was able to generate videos up to one minute long. It also shared a technical report highlighting the methods used to train the model and the model\\'s capabilities. It acknowledged some shortcomings of the system, including struggles in simulating complex physics. Will Douglas Heaven of the MIT Technology Review called the demonstration videos \"impressive\", but noted that they must have been cherry-picked and may not be representative of Sora\\'s typical output.\\n\\n=== Speech\\n\\nto\\n\\ntext ===\\n\\n==== Whisper ====\\n\\nReleased in 2022, Whisper is a general-purpose speech recognition model. It is trained on a large dataset of diverse audio and is also a multi-task model that can perform multilingual speech recognition as well as speech translation and language identification.\\n\\n=== Music generation ===', metadata={'source': '../dataset/llamaindex_data/openai.txt'}), Document(page_content='=== 2024–present: Public/non-profit efforts, Sora === On January 16, 2024, OpenAI announced the formation of a new Collective Alignment team that would aim to implement ideas from the public about how to ensure its models would \"align to the values of humanity.\" The move was from its public program launched in May 2023. The company wanted the program to be considered separate from its commercial endeavors. The move came amid intense scrutiny from regulators around the world. On January 18, 2024, OpenAI announced a partnership with Arizona State University, its first with a college, that would allow the institution to have complete access to ChatGPT Enterprise. ASU planned to incorporate it into courses, tutoring, and research, among other things.On February 15, 2024, OpenAI announced a text-to-video model named Sora. They have plans to release it to the public, but it will not release soon. However, it is available for red teams for managing critical harms and risks.On February 29, 2024, OpenAI and CEO Sam Altman were sued by Elon Musk who accused them of prioritizing profits over public good, a move away from OpenAI\\'s original mission of developing AI for humanity\\'s benefit. The lawsuit underscores OpenAI\\'s shift after partnering with Microsoft, questioning its open-source commitment and stirring the AI ethical-commercial debate.\\n\\nOpenAI in a blog post stated that “Elon understood the mission did not imply open-sourcing AGI.” In a staff memo, they also deny being a de facto Microsoft subsidiary.On March 11, 2024, OpenAI in a court filing said it was doing just fine without Elon Musk after he left the company in 2018. OpenAI thus responded to the lawsuit Musk filed against it last month, calling the billionaire’s “incoherent” claims “frivolous,” “extraordinary” and “a fiction.”\\n\\n== Participants ==\\n\\nKey employees:', metadata={'source': '../dataset/llamaindex_data/openai.txt'})]\n",
            "\n",
            "question: Tell me something about sora, developed by OpenAI\n",
            "\n"
          ]
        }
      ],
      "source": [
        "chain = {\"context\": retriever, \"query\": RunnablePassthrough()} \\\n",
        "        | prompt\n",
        "\n",
        "# 생성된 첫 번째 메시지의 내용을 출력함\n",
        "print(chain.invoke(\"Tell me something about sora, developed by OpenAI\").messages[0].content)"
      ]
    },
    {
      "cell_type": "code",
      "execution_count": 103,
      "id": "1c5cd596-a105-46ba-ada9-10b23de94146",
      "metadata": {
        "id": "1c5cd596-a105-46ba-ada9-10b23de94146",
        "outputId": "e20809f3-c15f-49a6-e464-448e59ff9b97"
      },
      "outputs": [
        {
          "name": "stdout",
          "output_type": "stream",
          "text": [
            "\n",
            "Utilizing the context given below, answer the question.\n",
            "[context]\n",
            "22The Pseudoinverse of a Matrix (1 of 2)\n",
            "Definition\n",
            "If A is a matrix with linearly independent columns, then the \n",
            "pseudoinverse of A is the matrix\n",
            " defined by\n",
            "\n",
            "21\n",
            "The Pseudoinverse of a Matrix\n",
            "\n",
            "24The Pseudoinverse of a Matrix (2 of 2)\n",
            "Theorem 7.12\n",
            "Let A be a matrix with linearly independent columns. Then \n",
            "the pseudoinverse\n",
            " of A satisfies the following properties, \n",
            "called the Penrose conditions for A:\n",
            "\n",
            "23Example 7.32\n",
            "Find the pseudoinverse of\n",
            "Solution:\n",
            "From the definition of the pseudoinverse of A, we have\n",
            "\n",
            "question: Tell me something about pseudoinverse od matrix A \n",
            "\n"
          ]
        }
      ],
      "source": [
        "chain = {\"context\": retriever | merge_docs, \"query\": RunnablePassthrough()} \\\n",
        "        | prompt\n",
        "\n",
        "print(chain.invoke(\"Tell me something about pseudoinverse od matrix A \").messages[0].content)"
      ]
    },
    {
      "cell_type": "code",
      "execution_count": null,
      "id": "e2a9f6f8-ae7c-4d3a-9f9a-388ba5f7614f",
      "metadata": {
        "id": "e2a9f6f8-ae7c-4d3a-9f9a-388ba5f7614f"
      },
      "outputs": [],
      "source": []
    },
    {
      "cell_type": "code",
      "execution_count": null,
      "id": "7e05f5c3-88a7-4ae2-826f-c807f0e96416",
      "metadata": {
        "id": "7e05f5c3-88a7-4ae2-826f-c807f0e96416"
      },
      "outputs": [],
      "source": []
    },
    {
      "cell_type": "markdown",
      "id": "2b6bf212-4d28-41e2-bc90-88cb603ff1b6",
      "metadata": {
        "id": "2b6bf212-4d28-41e2-bc90-88cb603ff1b6"
      },
      "source": [
        "### Utilizing prompt"
      ]
    },
    {
      "cell_type": "code",
      "execution_count": 105,
      "id": "95167915-71e0-46a7-ac28-57b3b688079e",
      "metadata": {
        "id": "95167915-71e0-46a7-ac28-57b3b688079e"
      },
      "outputs": [],
      "source": [
        "# 템플릿, 체인, 에이전트 등을 공유하고 관리할 수 있는 hub\n",
        "from langchain import hub\n"
      ]
    },
    {
      "cell_type": "code",
      "execution_count": 109,
      "id": "abefc0b0-59db-4bc3-924f-e263a36f54c3",
      "metadata": {
        "id": "abefc0b0-59db-4bc3-924f-e263a36f54c3",
        "outputId": "0aba90d0-05f1-4ae1-833d-fa9b516fb63f"
      },
      "outputs": [
        {
          "data": {
            "text/plain": [
              "[HumanMessagePromptTemplate(prompt=PromptTemplate(input_variables=['context', 'question'], template=\"You are an assistant for question-answering tasks. Use the following pieces of retrieved context to answer the question. If you don't know the answer, just say that you don't know. Use three sentences maximum and keep the answer concise.\\nQuestion: {question} \\nContext: {context} \\nAnswer:\"))]"
            ]
          },
          "execution_count": 109,
          "metadata": {},
          "output_type": "execute_result"
        }
      ],
      "source": [
        "# hub의 특정 프롬프트 템플릿을 가져옴\n",
        "prompt = hub.pull(\"rlm/rag-prompt\")\n",
        "prompt.messages"
      ]
    },
    {
      "cell_type": "code",
      "execution_count": null,
      "id": "7ebd8c52-d8cd-44de-ad7b-6834ba860374",
      "metadata": {
        "id": "7ebd8c52-d8cd-44de-ad7b-6834ba860374"
      },
      "outputs": [],
      "source": [
        "# hub에 있는 템플릿 사용\n",
        "chain = RunnableParallel(context=retriever, question=RunnablePassthrough()) \\\n",
        "        | prompt \\\n",
        "        | llm \\\n",
        "        | StrOutputParser()"
      ]
    },
    {
      "cell_type": "code",
      "execution_count": null,
      "id": "33bc10df-c6e8-4364-863c-2d4c1a1bc943",
      "metadata": {
        "id": "33bc10df-c6e8-4364-863c-2d4c1a1bc943",
        "outputId": "05e8c410-b2e5-4fc0-f584-1b16bb4a2338"
      },
      "outputs": [
        {
          "data": {
            "text/plain": [
              "'Sora is a text-to-video model developed by OpenAI that can generate videos based on short descriptive prompts and extend existing videos in time. It can create videos with resolutions up to 1920x1080 or 1080x1920 and was named after the Japanese word for sky to symbolize its limitless creative potential. OpenAI trained Sora using publicly available and licensed videos, demonstrating its capabilities to generate videos up to one minute long.'"
            ]
          },
          "execution_count": 175,
          "metadata": {},
          "output_type": "execute_result"
        }
      ],
      "source": [
        "chain.invoke(\"Tell me something about sora, developed by OpenAI\")"
      ]
    },
    {
      "cell_type": "code",
      "execution_count": null,
      "id": "020b299d-a4c9-4c12-b19e-c71a406d007b",
      "metadata": {
        "id": "020b299d-a4c9-4c12-b19e-c71a406d007b"
      },
      "outputs": [],
      "source": []
    },
    {
      "cell_type": "code",
      "execution_count": null,
      "id": "f9382118-26d5-4132-be7d-3ea9d5888a76",
      "metadata": {
        "id": "f9382118-26d5-4132-be7d-3ea9d5888a76"
      },
      "outputs": [],
      "source": []
    },
    {
      "cell_type": "markdown",
      "id": "cdede908-5dda-4c93-8935-540e386a8d32",
      "metadata": {
        "id": "cdede908-5dda-4c93-8935-540e386a8d32"
      },
      "source": [
        "# Putting it all together"
      ]
    },
    {
      "cell_type": "code",
      "execution_count": 110,
      "id": "5aaa075d-5837-48a8-bf6b-4df99bfbf8c3",
      "metadata": {
        "id": "5aaa075d-5837-48a8-bf6b-4df99bfbf8c3"
      },
      "outputs": [],
      "source": [
        "from langchain_community.document_loaders import DirectoryLoader\n",
        "from langchain_text_splitters import RecursiveCharacterTextSplitter\n",
        "from langchain_openai.embeddings import OpenAIEmbeddings\n",
        "from langchain_community.vectorstores import FAISS\n",
        "from langchain_openai import ChatOpenAI\n",
        "from langchain import hub\n",
        "from langchain_core.runnables import RunnableParallel, RunnablePassthrough\n",
        "from langchain_core.output_parsers import StrOutputParser"
      ]
    },
    {
      "cell_type": "code",
      "execution_count": 120,
      "id": "c5a0faf4-f517-485c-a243-87b9e723346d",
      "metadata": {
        "id": "c5a0faf4-f517-485c-a243-87b9e723346d",
        "outputId": "e084d700-a17e-428d-b58b-f5e006c7a624"
      },
      "outputs": [
        {
          "data": {
            "text/plain": [
              "ChatPromptTemplate(input_variables=['context', 'question'], metadata={'lc_hub_owner': 'rlm', 'lc_hub_repo': 'rag-prompt', 'lc_hub_commit_hash': '50442af133e61576e74536c6556cefe1fac147cad032f4377b60c436e6cdcb6e'}, messages=[HumanMessagePromptTemplate(prompt=PromptTemplate(input_variables=['context', 'question'], template=\"You are an assistant for question-answering tasks. Use the following pieces of retrieved context to answer the question. If you don't know the answer, just say that you don't know. Use three sentences maximum and keep the answer concise.\\nQuestion: {question} \\nContext: {context} \\nAnswer:\"))])"
            ]
          },
          "execution_count": 120,
          "metadata": {},
          "output_type": "execute_result"
        }
      ],
      "source": [
        "loader = DirectoryLoader(r\"C:\\Users\\RSM\\OneDrive\\바탕 화면\\API 스터디\", glob=\"*\", show_progress=True)\n",
        "\n",
        "text_splitter = RecursiveCharacterTextSplitter(\n",
        "    separators=[\"\\n\\n\", \"\\n\", \" \"],\n",
        "    chunk_size=500,\n",
        "    chunk_overlap=20,\n",
        "    length_function=len,\n",
        "    is_separator_regex=False,\n",
        ")\n",
        "\n",
        "embed_model = OpenAIEmbeddings(api_key=\"sk-proj-IijgVfhp9Yd2dAYhmtEpT3BlbkFJah84IhiGypsfWzyuAOpV\",\n",
        "                                model='text-embedding-3-small')\n",
        "\n",
        "llm = ChatOpenAI(temperature=0, model=\"gpt-3.5-turbo\")\n",
        "\n",
        "prompt = hub.pull(\"rlm/rag-prompt\")\n",
        "prompt"
      ]
    },
    {
      "cell_type": "code",
      "execution_count": 121,
      "id": "99a5035d-68ea-49cd-b210-c2af020a9810",
      "metadata": {
        "id": "99a5035d-68ea-49cd-b210-c2af020a9810"
      },
      "outputs": [],
      "source": [
        "# 리스트 요소들 합치는 함수\n",
        "def merge_docs(retrieved_docs):\n",
        "    return \"\\n\\n\".join([d.page_content for d in retrieved_docs])"
      ]
    },
    {
      "cell_type": "code",
      "execution_count": 122,
      "id": "2ee5c30e-6e05-43ba-b53f-43c2d0b6325e",
      "metadata": {
        "id": "2ee5c30e-6e05-43ba-b53f-43c2d0b6325e",
        "outputId": "370632b0-b26f-48d1-c94c-609ee6206710"
      },
      "outputs": [
        {
          "name": "stderr",
          "output_type": "stream",
          "text": [
            "\n",
            "\n",
            "\n",
            "\u001b[A\u001b[A\u001b[AERROR:langchain_community.document_loaders.directory:Error loading file C:\\Users\\RSM\\OneDrive\\바탕 화면\\API 스터디\\Chapter 7.pdf\n"
          ]
        },
        {
          "ename": "ImportError",
          "evalue": "partition_pdf is not available. Install the pdf dependencies with pip install \"unstructured[pdf]\"",
          "output_type": "error",
          "traceback": [
            "\u001b[1;31m---------------------------------------------------------------------------\u001b[0m",
            "\u001b[1;31mImportError\u001b[0m                               Traceback (most recent call last)",
            "Cell \u001b[1;32mIn[122], line 1\u001b[0m\n\u001b[1;32m----> 1\u001b[0m docs \u001b[38;5;241m=\u001b[39m \u001b[43mloader\u001b[49m\u001b[38;5;241;43m.\u001b[39;49m\u001b[43mload\u001b[49m\u001b[43m(\u001b[49m\u001b[43m)\u001b[49m\n\u001b[0;32m      2\u001b[0m documents \u001b[38;5;241m=\u001b[39m text_splitter\u001b[38;5;241m.\u001b[39msplit_documents(docs)\n\u001b[0;32m      3\u001b[0m \u001b[38;5;66;03m# 문서 안의 데이터를 벡터 임베딩함\u001b[39;00m\n",
            "File \u001b[1;32mc:\\Users\\RSM\\AppData\\Local\\Programs\\Python\\Python312\\Lib\\site-packages\\langchain_community\\document_loaders\\directory.py:117\u001b[0m, in \u001b[0;36mDirectoryLoader.load\u001b[1;34m(self)\u001b[0m\n\u001b[0;32m    115\u001b[0m \u001b[38;5;28;01mdef\u001b[39;00m \u001b[38;5;21mload\u001b[39m(\u001b[38;5;28mself\u001b[39m) \u001b[38;5;241m-\u001b[39m\u001b[38;5;241m>\u001b[39m List[Document]:\n\u001b[0;32m    116\u001b[0m \u001b[38;5;250m    \u001b[39m\u001b[38;5;124;03m\"\"\"Load documents.\"\"\"\u001b[39;00m\n\u001b[1;32m--> 117\u001b[0m     \u001b[38;5;28;01mreturn\u001b[39;00m \u001b[38;5;28;43mlist\u001b[39;49m\u001b[43m(\u001b[49m\u001b[38;5;28;43mself\u001b[39;49m\u001b[38;5;241;43m.\u001b[39;49m\u001b[43mlazy_load\u001b[49m\u001b[43m(\u001b[49m\u001b[43m)\u001b[49m\u001b[43m)\u001b[49m\n",
            "File \u001b[1;32mc:\\Users\\RSM\\AppData\\Local\\Programs\\Python\\Python312\\Lib\\site-packages\\langchain_community\\document_loaders\\directory.py:195\u001b[0m, in \u001b[0;36mDirectoryLoader.lazy_load\u001b[1;34m(self)\u001b[0m\n\u001b[0;32m    193\u001b[0m \u001b[38;5;28;01melse\u001b[39;00m:\n\u001b[0;32m    194\u001b[0m     \u001b[38;5;28;01mfor\u001b[39;00m i \u001b[38;5;129;01min\u001b[39;00m items:\n\u001b[1;32m--> 195\u001b[0m         \u001b[38;5;28;01myield from\u001b[39;00m \u001b[38;5;28mself\u001b[39m\u001b[38;5;241m.\u001b[39m_lazy_load_file(i, p, pbar)\n\u001b[0;32m    197\u001b[0m \u001b[38;5;28;01mif\u001b[39;00m pbar:\n\u001b[0;32m    198\u001b[0m     pbar\u001b[38;5;241m.\u001b[39mclose()\n",
            "File \u001b[1;32mc:\\Users\\RSM\\AppData\\Local\\Programs\\Python\\Python312\\Lib\\site-packages\\langchain_community\\document_loaders\\directory.py:233\u001b[0m, in \u001b[0;36mDirectoryLoader._lazy_load_file\u001b[1;34m(self, item, path, pbar)\u001b[0m\n\u001b[0;32m    231\u001b[0m     \u001b[38;5;28;01melse\u001b[39;00m:\n\u001b[0;32m    232\u001b[0m         logger\u001b[38;5;241m.\u001b[39merror(\u001b[38;5;124mf\u001b[39m\u001b[38;5;124m\"\u001b[39m\u001b[38;5;124mError loading file \u001b[39m\u001b[38;5;132;01m{\u001b[39;00m\u001b[38;5;28mstr\u001b[39m(item)\u001b[38;5;132;01m}\u001b[39;00m\u001b[38;5;124m\"\u001b[39m)\n\u001b[1;32m--> 233\u001b[0m         \u001b[38;5;28;01mraise\u001b[39;00m e\n\u001b[0;32m    234\u001b[0m \u001b[38;5;28;01mfinally\u001b[39;00m:\n\u001b[0;32m    235\u001b[0m     \u001b[38;5;28;01mif\u001b[39;00m pbar:\n",
            "File \u001b[1;32mc:\\Users\\RSM\\AppData\\Local\\Programs\\Python\\Python312\\Lib\\site-packages\\langchain_community\\document_loaders\\directory.py:223\u001b[0m, in \u001b[0;36mDirectoryLoader._lazy_load_file\u001b[1;34m(self, item, path, pbar)\u001b[0m\n\u001b[0;32m    221\u001b[0m loader \u001b[38;5;241m=\u001b[39m \u001b[38;5;28mself\u001b[39m\u001b[38;5;241m.\u001b[39mloader_cls(\u001b[38;5;28mstr\u001b[39m(item), \u001b[38;5;241m*\u001b[39m\u001b[38;5;241m*\u001b[39m\u001b[38;5;28mself\u001b[39m\u001b[38;5;241m.\u001b[39mloader_kwargs)\n\u001b[0;32m    222\u001b[0m \u001b[38;5;28;01mtry\u001b[39;00m:\n\u001b[1;32m--> 223\u001b[0m \u001b[43m    \u001b[49m\u001b[38;5;28;43;01mfor\u001b[39;49;00m\u001b[43m \u001b[49m\u001b[43msubdoc\u001b[49m\u001b[43m \u001b[49m\u001b[38;5;129;43;01min\u001b[39;49;00m\u001b[43m \u001b[49m\u001b[43mloader\u001b[49m\u001b[38;5;241;43m.\u001b[39;49m\u001b[43mlazy_load\u001b[49m\u001b[43m(\u001b[49m\u001b[43m)\u001b[49m\u001b[43m:\u001b[49m\n\u001b[0;32m    224\u001b[0m \u001b[43m        \u001b[49m\u001b[38;5;28;43;01myield\u001b[39;49;00m\u001b[43m \u001b[49m\u001b[43msubdoc\u001b[49m\n\u001b[0;32m    225\u001b[0m \u001b[38;5;28;01mexcept\u001b[39;00m \u001b[38;5;167;01mNotImplementedError\u001b[39;00m:\n",
            "File \u001b[1;32mc:\\Users\\RSM\\AppData\\Local\\Programs\\Python\\Python312\\Lib\\site-packages\\langchain_community\\document_loaders\\unstructured.py:88\u001b[0m, in \u001b[0;36mUnstructuredBaseLoader.lazy_load\u001b[1;34m(self)\u001b[0m\n\u001b[0;32m     86\u001b[0m \u001b[38;5;28;01mdef\u001b[39;00m \u001b[38;5;21mlazy_load\u001b[39m(\u001b[38;5;28mself\u001b[39m) \u001b[38;5;241m-\u001b[39m\u001b[38;5;241m>\u001b[39m Iterator[Document]:\n\u001b[0;32m     87\u001b[0m \u001b[38;5;250m    \u001b[39m\u001b[38;5;124;03m\"\"\"Load file.\"\"\"\u001b[39;00m\n\u001b[1;32m---> 88\u001b[0m     elements \u001b[38;5;241m=\u001b[39m \u001b[38;5;28;43mself\u001b[39;49m\u001b[38;5;241;43m.\u001b[39;49m\u001b[43m_get_elements\u001b[49m\u001b[43m(\u001b[49m\u001b[43m)\u001b[49m\n\u001b[0;32m     89\u001b[0m     \u001b[38;5;28mself\u001b[39m\u001b[38;5;241m.\u001b[39m_post_process_elements(elements)\n\u001b[0;32m     90\u001b[0m     \u001b[38;5;28;01mif\u001b[39;00m \u001b[38;5;28mself\u001b[39m\u001b[38;5;241m.\u001b[39mmode \u001b[38;5;241m==\u001b[39m \u001b[38;5;124m\"\u001b[39m\u001b[38;5;124melements\u001b[39m\u001b[38;5;124m\"\u001b[39m:\n",
            "File \u001b[1;32mc:\\Users\\RSM\\AppData\\Local\\Programs\\Python\\Python312\\Lib\\site-packages\\langchain_community\\document_loaders\\unstructured.py:180\u001b[0m, in \u001b[0;36mUnstructuredFileLoader._get_elements\u001b[1;34m(self)\u001b[0m\n\u001b[0;32m    178\u001b[0m \u001b[38;5;28;01mif\u001b[39;00m \u001b[38;5;28misinstance\u001b[39m(\u001b[38;5;28mself\u001b[39m\u001b[38;5;241m.\u001b[39mfile_path, Path):\n\u001b[0;32m    179\u001b[0m     \u001b[38;5;28mself\u001b[39m\u001b[38;5;241m.\u001b[39mfile_path \u001b[38;5;241m=\u001b[39m \u001b[38;5;28mstr\u001b[39m(\u001b[38;5;28mself\u001b[39m\u001b[38;5;241m.\u001b[39mfile_path)\n\u001b[1;32m--> 180\u001b[0m \u001b[38;5;28;01mreturn\u001b[39;00m \u001b[43mpartition\u001b[49m\u001b[43m(\u001b[49m\u001b[43mfilename\u001b[49m\u001b[38;5;241;43m=\u001b[39;49m\u001b[38;5;28;43mself\u001b[39;49m\u001b[38;5;241;43m.\u001b[39;49m\u001b[43mfile_path\u001b[49m\u001b[43m,\u001b[49m\u001b[43m \u001b[49m\u001b[38;5;241;43m*\u001b[39;49m\u001b[38;5;241;43m*\u001b[39;49m\u001b[38;5;28;43mself\u001b[39;49m\u001b[38;5;241;43m.\u001b[39;49m\u001b[43munstructured_kwargs\u001b[49m\u001b[43m)\u001b[49m\n",
            "File \u001b[1;32mc:\\Users\\RSM\\AppData\\Local\\Programs\\Python\\Python312\\Lib\\site-packages\\unstructured\\partition\\auto.py:428\u001b[0m, in \u001b[0;36mpartition\u001b[1;34m(filename, content_type, file, file_filename, url, include_page_breaks, strategy, encoding, paragraph_grouper, headers, skip_infer_table_types, ssl_verify, ocr_languages, languages, detect_language_per_element, pdf_infer_table_structure, extract_images_in_pdf, extract_image_block_types, extract_image_block_output_dir, extract_image_block_to_payload, xml_keep_tags, data_source_metadata, metadata_filename, request_timeout, hi_res_model_name, model_name, date_from_file_object, starting_page_number, **kwargs)\u001b[0m\n\u001b[0;32m    418\u001b[0m     elements \u001b[38;5;241m=\u001b[39m _partition_md(\n\u001b[0;32m    419\u001b[0m         filename\u001b[38;5;241m=\u001b[39mfilename,\n\u001b[0;32m    420\u001b[0m         file\u001b[38;5;241m=\u001b[39mfile,\n\u001b[1;32m   (...)\u001b[0m\n\u001b[0;32m    425\u001b[0m         \u001b[38;5;241m*\u001b[39m\u001b[38;5;241m*\u001b[39mkwargs,\n\u001b[0;32m    426\u001b[0m     )\n\u001b[0;32m    427\u001b[0m \u001b[38;5;28;01melif\u001b[39;00m filetype \u001b[38;5;241m==\u001b[39m FileType\u001b[38;5;241m.\u001b[39mPDF:\n\u001b[1;32m--> 428\u001b[0m     _partition_pdf \u001b[38;5;241m=\u001b[39m \u001b[43m_get_partition_with_extras\u001b[49m\u001b[43m(\u001b[49m\u001b[38;5;124;43m\"\u001b[39;49m\u001b[38;5;124;43mpdf\u001b[39;49m\u001b[38;5;124;43m\"\u001b[39;49m\u001b[43m)\u001b[49m\n\u001b[0;32m    429\u001b[0m     elements \u001b[38;5;241m=\u001b[39m _partition_pdf(\n\u001b[0;32m    430\u001b[0m         filename\u001b[38;5;241m=\u001b[39mfilename,\n\u001b[0;32m    431\u001b[0m         file\u001b[38;5;241m=\u001b[39mfile,\n\u001b[1;32m   (...)\u001b[0m\n\u001b[0;32m    443\u001b[0m         \u001b[38;5;241m*\u001b[39m\u001b[38;5;241m*\u001b[39mkwargs,\n\u001b[0;32m    444\u001b[0m     )\n\u001b[0;32m    445\u001b[0m \u001b[38;5;28;01melif\u001b[39;00m filetype \u001b[38;5;129;01min\u001b[39;00m IMAGE_FILETYPES:\n",
            "File \u001b[1;32mc:\\Users\\RSM\\AppData\\Local\\Programs\\Python\\Python312\\Lib\\site-packages\\unstructured\\partition\\auto.py:125\u001b[0m, in \u001b[0;36m_get_partition_with_extras\u001b[1;34m(doc_type, partition_with_extras_map)\u001b[0m\n\u001b[0;32m    123\u001b[0m _partition_func \u001b[38;5;241m=\u001b[39m partition_with_extras_map\u001b[38;5;241m.\u001b[39mget(doc_type)\n\u001b[0;32m    124\u001b[0m \u001b[38;5;28;01mif\u001b[39;00m _partition_func \u001b[38;5;129;01mis\u001b[39;00m \u001b[38;5;28;01mNone\u001b[39;00m:\n\u001b[1;32m--> 125\u001b[0m     \u001b[38;5;28;01mraise\u001b[39;00m \u001b[38;5;167;01mImportError\u001b[39;00m(\n\u001b[0;32m    126\u001b[0m         \u001b[38;5;124mf\u001b[39m\u001b[38;5;124m\"\u001b[39m\u001b[38;5;124mpartition_\u001b[39m\u001b[38;5;132;01m{\u001b[39;00mdoc_type\u001b[38;5;132;01m}\u001b[39;00m\u001b[38;5;124m is not available. \u001b[39m\u001b[38;5;124m\"\u001b[39m\n\u001b[0;32m    127\u001b[0m         \u001b[38;5;124mf\u001b[39m\u001b[38;5;124m\"\u001b[39m\u001b[38;5;124mInstall the \u001b[39m\u001b[38;5;132;01m{\u001b[39;00mdoc_type\u001b[38;5;132;01m}\u001b[39;00m\u001b[38;5;124m dependencies with \u001b[39m\u001b[38;5;124m\"\u001b[39m\n\u001b[0;32m    128\u001b[0m         \u001b[38;5;124mf\u001b[39m\u001b[38;5;124m'\u001b[39m\u001b[38;5;124mpip install \u001b[39m\u001b[38;5;124m\"\u001b[39m\u001b[38;5;124munstructured[\u001b[39m\u001b[38;5;132;01m{\u001b[39;00mdoc_type\u001b[38;5;132;01m}\u001b[39;00m\u001b[38;5;124m]\u001b[39m\u001b[38;5;124m\"\u001b[39m\u001b[38;5;124m'\u001b[39m,\n\u001b[0;32m    129\u001b[0m     )\n\u001b[0;32m    130\u001b[0m \u001b[38;5;28;01mreturn\u001b[39;00m _partition_func\n",
            "\u001b[1;31mImportError\u001b[0m: partition_pdf is not available. Install the pdf dependencies with pip install \"unstructured[pdf]\""
          ]
        }
      ],
      "source": [
        "docs = loader.load()\n",
        "documents = text_splitter.split_documents(docs)\n",
        "# 문서 안의 데이터를 벡터 임베딩함\n",
        "vector_index = FAISS.from_documents(documents, embed_model)\n",
        "# mmr 검색 방식 채택\n",
        "retriever = vector_index.as_retriever(search_type=\"mmr\")"
      ]
    },
    {
      "cell_type": "code",
      "execution_count": 123,
      "id": "44048b1e-ac58-489e-a414-17b72a28e34a",
      "metadata": {
        "id": "44048b1e-ac58-489e-a414-17b72a28e34a"
      },
      "outputs": [],
      "source": [
        "chain = RunnableParallel(context=retriever, question=RunnablePassthrough()) \\\n",
        "        | prompt \\\n",
        "        | llm \\\n",
        "        | StrOutputParser()"
      ]
    },
    {
      "cell_type": "code",
      "execution_count": 125,
      "id": "3e6c8075-35c6-49c9-aef7-25cbf41a0e38",
      "metadata": {
        "id": "3e6c8075-35c6-49c9-aef7-25cbf41a0e38",
        "outputId": "7013446e-b5c9-4bff-880b-192b9cb5b629"
      },
      "outputs": [
        {
          "data": {
            "text/plain": [
              "'The pseudoinverse of a matrix is defined when the matrix has linearly independent columns. It satisfies certain properties known as the Penrose conditions. It is used in cases where the matrix does not have an inverse.'"
            ]
          },
          "execution_count": 125,
          "metadata": {},
          "output_type": "execute_result"
        }
      ],
      "source": [
        "chain.invoke(\"Tell me something about pseudoinverse of matrix\")"
      ]
    },
    {
      "cell_type": "code",
      "execution_count": null,
      "id": "e3593dd2-674f-490c-8f31-049d910ee239",
      "metadata": {
        "id": "e3593dd2-674f-490c-8f31-049d910ee239"
      },
      "outputs": [],
      "source": []
    }
  ],
  "metadata": {
    "colab": {
      "provenance": []
    },
    "kernelspec": {
      "display_name": "Python 3 (ipykernel)",
      "language": "python",
      "name": "python3"
    },
    "language_info": {
      "codemirror_mode": {
        "name": "ipython",
        "version": 3
      },
      "file_extension": ".py",
      "mimetype": "text/x-python",
      "name": "python",
      "nbconvert_exporter": "python",
      "pygments_lexer": "ipython3",
      "version": "3.12.4"
    }
  },
  "nbformat": 4,
  "nbformat_minor": 5
}
